{
 "cells": [
  {
   "cell_type": "code",
   "execution_count": 7,
   "metadata": {
    "collapsed": true
   },
   "outputs": [],
   "source": [
    "import glob\n",
    "import os"
   ]
  },
  {
   "cell_type": "code",
   "execution_count": 29,
   "metadata": {
    "collapsed": true
   },
   "outputs": [],
   "source": [
    "base_path = '/home/gengshan/workJan/poseEstm_rtpose/camData/'"
   ]
  },
  {
   "cell_type": "code",
   "execution_count": 32,
   "metadata": {
    "collapsed": false
   },
   "outputs": [
    {
     "name": "stdout",
     "output_type": "stream",
     "text": [
      "['/home/gengshan/workJan/poseEstm_rtpose/camData/lhandsup/1/20170116_134023/', '/home/gengshan/workJan/poseEstm_rtpose/camData/lhandsup/1/20170116_134107/', '/home/gengshan/workJan/poseEstm_rtpose/camData/lhandsup/1/20170116_134047/', '/home/gengshan/workJan/poseEstm_rtpose/camData/lhandsup/1/20170116_134059/']\n",
      "['/home/gengshan/workJan/poseEstm_rtpose/camData/lhandsup/2/20170116_134338/', '/home/gengshan/workJan/poseEstm_rtpose/camData/lhandsup/2/20170116_134325/', '/home/gengshan/workJan/poseEstm_rtpose/camData/lhandsup/2/20170116_134331/']\n",
      "['/home/gengshan/workJan/poseEstm_rtpose/camData/lhandsup/3/20170116_134525/', '/home/gengshan/workJan/poseEstm_rtpose/camData/lhandsup/3/20170116_134531/', '/home/gengshan/workJan/poseEstm_rtpose/camData/lhandsup/3/20170116_134537/']\n",
      "['/home/gengshan/workJan/poseEstm_rtpose/camData/lhandsup/4/20170116_134700/', '/home/gengshan/workJan/poseEstm_rtpose/camData/lhandsup/4/20170116_134648/', '/home/gengshan/workJan/poseEstm_rtpose/camData/lhandsup/4/20170116_134654/']\n",
      "['/home/gengshan/workJan/poseEstm_rtpose/camData/static/1/20170116_134123/', '/home/gengshan/workJan/poseEstm_rtpose/camData/static/1/20170116_134150/', '/home/gengshan/workJan/poseEstm_rtpose/camData/static/1/20170116_134143/']\n",
      "['/home/gengshan/workJan/poseEstm_rtpose/camData/static/2/20170116_134345/', '/home/gengshan/workJan/poseEstm_rtpose/camData/static/2/20170116_134358/']\n",
      "['/home/gengshan/workJan/poseEstm_rtpose/camData/static/3/20170116_134544/', '/home/gengshan/workJan/poseEstm_rtpose/camData/static/3/20170116_134550/', '/home/gengshan/workJan/poseEstm_rtpose/camData/static/3/20170116_134557/']\n",
      "['/home/gengshan/workJan/poseEstm_rtpose/camData/static/4/20170116_134715/', '/home/gengshan/workJan/poseEstm_rtpose/camData/static/4/20170116_134708/']\n"
     ]
    }
   ],
   "source": [
    "for cls in glob.glob(base_path+'/*'):\n",
    "    for subcls in glob.glob( cls+'/*'):\n",
    "        path  = glob.glob( subcls+'/*/')\n",
    "        print path"
   ]
  },
  {
   "cell_type": "code",
   "execution_count": 14,
   "metadata": {
    "collapsed": false
   },
   "outputs": [
    {
     "data": {
      "text/plain": [
       "['/home/gengshan/workJan/poseEstm_rtpose/camData/lhandsup',\n",
       " '/home/gengshan/workJan/poseEstm_rtpose/camData/static']"
      ]
     },
     "execution_count": 14,
     "metadata": {},
     "output_type": "execute_result"
    }
   ],
   "source": [
    "glob.glob('/home/gengshan/workJan/poseEstm_rtpose/camData/*')"
   ]
  },
  {
   "cell_type": "code",
   "execution_count": null,
   "metadata": {
    "collapsed": true
   },
   "outputs": [],
   "source": []
  },
  {
   "cell_type": "code",
   "execution_count": null,
   "metadata": {
    "collapsed": true
   },
   "outputs": [],
   "source": []
  },
  {
   "cell_type": "code",
   "execution_count": 1,
   "metadata": {
    "collapsed": false
   },
   "outputs": [
    {
     "name": "stderr",
     "output_type": "stream",
     "text": [
      "/usr/lib/python2.7/dist-packages/numpy/oldnumeric/__init__.py:11: ModuleDeprecationWarning: The oldnumeric module will be dropped in Numpy 1.9\n",
      "  warnings.warn(_msg, ModuleDeprecationWarning)\n"
     ]
    }
   ],
   "source": [
    "import numpy as np\n",
    "import json\n",
    "import mxnet as mx\n",
    "from poserecog.bucket_io import BucketSentenceIter\n",
    "\n",
    "import logging"
   ]
  },
  {
   "cell_type": "code",
   "execution_count": 2,
   "metadata": {
    "collapsed": true
   },
   "outputs": [],
   "source": [
    "contexts = mx.context.gpu(5)"
   ]
  },
  {
   "cell_type": "code",
   "execution_count": 3,
   "metadata": {
    "collapsed": false
   },
   "outputs": [],
   "source": [
    "batch_size = 32  #\n",
    "disp_batches = 50\n",
    "buckets = [129]  #\n",
    "num_epochs = 25\n",
    "num_hidden = 512\n",
    "num_lstm_layer = 3\n",
    "init_c = [('l%d_init_c'%l, (batch_size, num_hidden)) for l in range(num_lstm_layer)]\n",
    "init_h = [('l%d_init_h'%l, (batch_size, num_hidden)) for l in range(num_lstm_layer)]\n",
    "init_states = init_c + init_h\n",
    "invalid_label = 0"
   ]
  },
  {
   "cell_type": "code",
   "execution_count": 4,
   "metadata": {
    "collapsed": false
   },
   "outputs": [
    {
     "data": {
      "text/plain": [
       "[('l0_init_c', (32, 512)), ('l1_init_c', (32, 512)), ('l2_init_c', (32, 512))]"
      ]
     },
     "execution_count": 4,
     "metadata": {},
     "output_type": "execute_result"
    }
   ],
   "source": [
    "init_c"
   ]
  },
  {
   "cell_type": "code",
   "execution_count": null,
   "metadata": {
    "collapsed": true
   },
   "outputs": [],
   "source": []
  },
  {
   "cell_type": "code",
   "execution_count": 5,
   "metadata": {
    "collapsed": false
   },
   "outputs": [
    {
     "name": "stdout",
     "output_type": "stream",
     "text": [
      "reading from out\n",
      "categories: set(['static', 'lhandsup'])\n",
      "label: 0, category: static\n",
      "out/static_20170116_134123.json\n",
      "out/static_20170116_134150.json\n",
      "out/static_20170116_134143.json\n",
      "out/static_20170116_134345.json\n",
      "out/static_20170116_134358.json\n",
      "out/static_20170116_134544.json\n",
      "out/static_20170116_134550.json\n",
      "out/static_20170116_134557.json\n",
      "out/static_20170116_134715.json\n",
      "out/static_20170116_134708.json\n",
      "label: 1, category: lhandsup\n",
      "out/lhandsup_20170116_134023.json\n",
      "out/lhandsup_20170116_134107.json\n",
      "out/lhandsup_20170116_134047.json\n",
      "out/lhandsup_20170116_134059.json\n",
      "out/lhandsup_20170116_134338.json\n",
      "out/lhandsup_20170116_134325.json\n",
      "out/lhandsup_20170116_134331.json\n",
      "out/lhandsup_20170116_134525.json\n",
      "out/lhandsup_20170116_134531.json\n",
      "out/lhandsup_20170116_134537.json\n",
      "out/lhandsup_20170116_134700.json\n",
      "out/lhandsup_20170116_134648.json\n",
      "out/lhandsup_20170116_134654.json\n",
      "23 samples\n",
      "Summary of dataset ==================\n",
      "bucket of len 129 : 736 samples\n",
      "[('data', (32, 129, 28))]\n",
      "[('softmax_label', (32, 129))]\n"
     ]
    }
   ],
   "source": [
    "data_train = BucketSentenceIter(buckets, batch_size,\n",
    "                                init_states, dataPath = 'out' )"
   ]
  },
  {
   "cell_type": "code",
   "execution_count": 6,
   "metadata": {
    "collapsed": false
   },
   "outputs": [],
   "source": [
    "stack = mx.rnn.SequentialRNNCell()\n",
    "for i in range(num_lstm_layer):\n",
    "    stack.add(mx.rnn.LSTMCell(num_hidden=num_hidden, prefix='lstm_l%d_'%i))"
   ]
  },
  {
   "cell_type": "code",
   "execution_count": 7,
   "metadata": {
    "collapsed": true
   },
   "outputs": [],
   "source": [
    "def sym_gen(seq_len):\n",
    "    data = mx.sym.Variable('data')\n",
    "    label = mx.sym.Variable('softmax_label')\n",
    "    embed = mx.sym.Embedding(data=data, input_dim=28,\n",
    "                             output_dim=200, name='embed')\n",
    "\n",
    "    stack.reset()\n",
    "    outputs, states = stack.unroll(seq_len, inputs=embed, merge_outputs=True)\n",
    "\n",
    "    pred = mx.sym.Reshape(outputs, shape=(-1, num_hidden))\n",
    "    pred = mx.sym.FullyConnected(data=pred, num_hidden=28, name='pred')\n",
    "\n",
    "    label = mx.sym.Reshape(label, shape=(-1,))\n",
    "    pred = mx.sym.SoftmaxOutput(data=pred, label=label, name='softmax')\n",
    "\n",
    "    return pred, ('data',), ('softmax_label',)"
   ]
  },
  {
   "cell_type": "code",
   "execution_count": 8,
   "metadata": {
    "collapsed": false
   },
   "outputs": [],
   "source": [
    "model = mx.mod.BucketingModule(\n",
    "    sym_gen             = sym_gen,\n",
    "    default_bucket_key  = data_train.default_bucket_key,\n",
    "    context             = contexts)"
   ]
  },
  {
   "cell_type": "code",
   "execution_count": 10,
   "metadata": {
    "collapsed": false
   },
   "outputs": [
    {
     "name": "stderr",
     "output_type": "stream",
     "text": [
      "WARNING:root:Already bound, ignoring bind()\n",
      "WARNING:root:optimizer already initialized, ignoring.\n"
     ]
    },
    {
     "ename": "KeyboardInterrupt",
     "evalue": "",
     "output_type": "error",
     "traceback": [
      "\u001b[1;31m---------------------------------------------------------------------------\u001b[0m",
      "\u001b[1;31mKeyboardInterrupt\u001b[0m                         Traceback (most recent call last)",
      "\u001b[1;32m<ipython-input-10-75e9187fa602>\u001b[0m in \u001b[0;36m<module>\u001b[1;34m()\u001b[0m\n\u001b[0;32m     10\u001b[0m     \u001b[0minitializer\u001b[0m         \u001b[1;33m=\u001b[0m \u001b[0mmx\u001b[0m\u001b[1;33m.\u001b[0m\u001b[0minit\u001b[0m\u001b[1;33m.\u001b[0m\u001b[0mXavier\u001b[0m\u001b[1;33m(\u001b[0m\u001b[0mfactor_type\u001b[0m\u001b[1;33m=\u001b[0m\u001b[1;34m\"in\"\u001b[0m\u001b[1;33m,\u001b[0m \u001b[0mmagnitude\u001b[0m\u001b[1;33m=\u001b[0m\u001b[1;36m2.34\u001b[0m\u001b[1;33m)\u001b[0m\u001b[1;33m,\u001b[0m\u001b[1;33m\u001b[0m\u001b[0m\n\u001b[0;32m     11\u001b[0m     \u001b[0mnum_epoch\u001b[0m           \u001b[1;33m=\u001b[0m \u001b[0mnum_epochs\u001b[0m\u001b[1;33m,\u001b[0m\u001b[1;33m\u001b[0m\u001b[0m\n\u001b[1;32m---> 12\u001b[1;33m     batch_end_callback  = mx.callback.Speedometer(batch_size, disp_batches))\n\u001b[0m",
      "\u001b[1;32m/home/gengshan/MXNet/mxnet/python/mxnet/module/base_module.pyc\u001b[0m in \u001b[0;36mfit\u001b[1;34m(self, train_data, eval_data, eval_metric, epoch_end_callback, batch_end_callback, kvstore, optimizer, optimizer_params, eval_end_callback, eval_batch_end_callback, initializer, arg_params, aux_params, allow_missing, force_rebind, force_init, begin_epoch, num_epoch, validation_metric, monitor)\u001b[0m\n\u001b[0;32m    479\u001b[0m                     \u001b[0mend_of_batch\u001b[0m \u001b[1;33m=\u001b[0m \u001b[0mTrue\u001b[0m\u001b[1;33m\u001b[0m\u001b[0m\n\u001b[0;32m    480\u001b[0m \u001b[1;33m\u001b[0m\u001b[0m\n\u001b[1;32m--> 481\u001b[1;33m                 \u001b[0mself\u001b[0m\u001b[1;33m.\u001b[0m\u001b[0mupdate_metric\u001b[0m\u001b[1;33m(\u001b[0m\u001b[0meval_metric\u001b[0m\u001b[1;33m,\u001b[0m \u001b[0mdata_batch\u001b[0m\u001b[1;33m.\u001b[0m\u001b[0mlabel\u001b[0m\u001b[1;33m)\u001b[0m\u001b[1;33m\u001b[0m\u001b[0m\n\u001b[0m\u001b[0;32m    482\u001b[0m \u001b[1;33m\u001b[0m\u001b[0m\n\u001b[0;32m    483\u001b[0m                 \u001b[1;32mif\u001b[0m \u001b[0mmonitor\u001b[0m \u001b[1;32mis\u001b[0m \u001b[1;32mnot\u001b[0m \u001b[0mNone\u001b[0m\u001b[1;33m:\u001b[0m\u001b[1;33m\u001b[0m\u001b[0m\n",
      "\u001b[1;32m/home/gengshan/MXNet/mxnet/python/mxnet/module/bucketing_module.pyc\u001b[0m in \u001b[0;36mupdate_metric\u001b[1;34m(self, eval_metric, labels)\u001b[0m\n\u001b[0;32m    453\u001b[0m         \"\"\"\n\u001b[0;32m    454\u001b[0m         \u001b[1;32massert\u001b[0m \u001b[0mself\u001b[0m\u001b[1;33m.\u001b[0m\u001b[0mbinded\u001b[0m \u001b[1;32mand\u001b[0m \u001b[0mself\u001b[0m\u001b[1;33m.\u001b[0m\u001b[0mparams_initialized\u001b[0m\u001b[1;33m\u001b[0m\u001b[0m\n\u001b[1;32m--> 455\u001b[1;33m         \u001b[0mself\u001b[0m\u001b[1;33m.\u001b[0m\u001b[0m_curr_module\u001b[0m\u001b[1;33m.\u001b[0m\u001b[0mupdate_metric\u001b[0m\u001b[1;33m(\u001b[0m\u001b[0meval_metric\u001b[0m\u001b[1;33m,\u001b[0m \u001b[0mlabels\u001b[0m\u001b[1;33m)\u001b[0m\u001b[1;33m\u001b[0m\u001b[0m\n\u001b[0m\u001b[0;32m    456\u001b[0m \u001b[1;33m\u001b[0m\u001b[0m\n\u001b[0;32m    457\u001b[0m     \u001b[1;33m@\u001b[0m\u001b[0mproperty\u001b[0m\u001b[1;33m\u001b[0m\u001b[0m\n",
      "\u001b[1;32m/home/gengshan/MXNet/mxnet/python/mxnet/module/module.pyc\u001b[0m in \u001b[0;36mupdate_metric\u001b[1;34m(self, eval_metric, labels)\u001b[0m\n\u001b[0;32m    662\u001b[0m             \u001b[0mTypically\u001b[0m \u001b[1;33m`\u001b[0m\u001b[1;33m`\u001b[0m\u001b[0mdata_batch\u001b[0m\u001b[1;33m.\u001b[0m\u001b[0mlabel\u001b[0m\u001b[1;33m`\u001b[0m\u001b[1;33m`\u001b[0m\u001b[1;33m.\u001b[0m\u001b[1;33m\u001b[0m\u001b[0m\n\u001b[0;32m    663\u001b[0m         \"\"\"\n\u001b[1;32m--> 664\u001b[1;33m         \u001b[0mself\u001b[0m\u001b[1;33m.\u001b[0m\u001b[0m_exec_group\u001b[0m\u001b[1;33m.\u001b[0m\u001b[0mupdate_metric\u001b[0m\u001b[1;33m(\u001b[0m\u001b[0meval_metric\u001b[0m\u001b[1;33m,\u001b[0m \u001b[0mlabels\u001b[0m\u001b[1;33m)\u001b[0m\u001b[1;33m\u001b[0m\u001b[0m\n\u001b[0m\u001b[0;32m    665\u001b[0m \u001b[1;33m\u001b[0m\u001b[0m\n\u001b[0;32m    666\u001b[0m     \u001b[1;32mdef\u001b[0m \u001b[0m_sync_params_from_devices\u001b[0m\u001b[1;33m(\u001b[0m\u001b[0mself\u001b[0m\u001b[1;33m)\u001b[0m\u001b[1;33m:\u001b[0m\u001b[1;33m\u001b[0m\u001b[0m\n",
      "\u001b[1;32m/home/gengshan/MXNet/mxnet/python/mxnet/module/executor_group.pyc\u001b[0m in \u001b[0;36mupdate_metric\u001b[1;34m(self, eval_metric, labels)\u001b[0m\n\u001b[0;32m    556\u001b[0m             \u001b[0mlabels_\u001b[0m \u001b[1;33m=\u001b[0m \u001b[0mOrderedDict\u001b[0m\u001b[1;33m(\u001b[0m\u001b[0mzip\u001b[0m\u001b[1;33m(\u001b[0m\u001b[0mself\u001b[0m\u001b[1;33m.\u001b[0m\u001b[0mlabel_names\u001b[0m\u001b[1;33m,\u001b[0m \u001b[0mlabels_slice\u001b[0m\u001b[1;33m)\u001b[0m\u001b[1;33m)\u001b[0m\u001b[1;33m\u001b[0m\u001b[0m\n\u001b[0;32m    557\u001b[0m             \u001b[0mpreds\u001b[0m \u001b[1;33m=\u001b[0m \u001b[0mOrderedDict\u001b[0m\u001b[1;33m(\u001b[0m\u001b[0mzip\u001b[0m\u001b[1;33m(\u001b[0m\u001b[0mself\u001b[0m\u001b[1;33m.\u001b[0m\u001b[0moutput_names\u001b[0m\u001b[1;33m,\u001b[0m \u001b[0mtexec\u001b[0m\u001b[1;33m.\u001b[0m\u001b[0moutputs\u001b[0m\u001b[1;33m)\u001b[0m\u001b[1;33m)\u001b[0m\u001b[1;33m\u001b[0m\u001b[0m\n\u001b[1;32m--> 558\u001b[1;33m             \u001b[0meval_metric\u001b[0m\u001b[1;33m.\u001b[0m\u001b[0mupdate_dict\u001b[0m\u001b[1;33m(\u001b[0m\u001b[0mlabels_\u001b[0m\u001b[1;33m,\u001b[0m \u001b[0mpreds\u001b[0m\u001b[1;33m)\u001b[0m\u001b[1;33m\u001b[0m\u001b[0m\n\u001b[0m\u001b[0;32m    559\u001b[0m \u001b[1;33m\u001b[0m\u001b[0m\n\u001b[0;32m    560\u001b[0m     \u001b[1;32mdef\u001b[0m \u001b[0m_bind_ith_exec\u001b[0m\u001b[1;33m(\u001b[0m\u001b[0mself\u001b[0m\u001b[1;33m,\u001b[0m \u001b[0mi\u001b[0m\u001b[1;33m,\u001b[0m \u001b[0mdata_shapes\u001b[0m\u001b[1;33m,\u001b[0m \u001b[0mlabel_shapes\u001b[0m\u001b[1;33m,\u001b[0m \u001b[0mshared_group\u001b[0m\u001b[1;33m)\u001b[0m\u001b[1;33m:\u001b[0m\u001b[1;33m\u001b[0m\u001b[0m\n",
      "\u001b[1;32m/home/gengshan/MXNet/mxnet/python/mxnet/metric.pyc\u001b[0m in \u001b[0;36mupdate_dict\u001b[1;34m(self, label, pred)\u001b[0m\n\u001b[0;32m     89\u001b[0m             \u001b[0mlabel\u001b[0m \u001b[1;33m=\u001b[0m \u001b[0mlabel\u001b[0m\u001b[1;33m.\u001b[0m\u001b[0mvalues\u001b[0m\u001b[1;33m(\u001b[0m\u001b[1;33m)\u001b[0m\u001b[1;33m\u001b[0m\u001b[0m\n\u001b[0;32m     90\u001b[0m \u001b[1;33m\u001b[0m\u001b[0m\n\u001b[1;32m---> 91\u001b[1;33m         \u001b[0mself\u001b[0m\u001b[1;33m.\u001b[0m\u001b[0mupdate\u001b[0m\u001b[1;33m(\u001b[0m\u001b[0mlabel\u001b[0m\u001b[1;33m,\u001b[0m \u001b[0mpred\u001b[0m\u001b[1;33m)\u001b[0m\u001b[1;33m\u001b[0m\u001b[0m\n\u001b[0m\u001b[0;32m     92\u001b[0m \u001b[1;33m\u001b[0m\u001b[0m\n\u001b[0;32m     93\u001b[0m     \u001b[1;32mdef\u001b[0m \u001b[0mupdate\u001b[0m\u001b[1;33m(\u001b[0m\u001b[0mself\u001b[0m\u001b[1;33m,\u001b[0m \u001b[0mlabels\u001b[0m\u001b[1;33m,\u001b[0m \u001b[0mpreds\u001b[0m\u001b[1;33m)\u001b[0m\u001b[1;33m:\u001b[0m\u001b[1;33m\u001b[0m\u001b[0m\n",
      "\u001b[1;32m/home/gengshan/MXNet/mxnet/python/mxnet/metric.pyc\u001b[0m in \u001b[0;36mupdate\u001b[1;34m(self, labels, preds)\u001b[0m\n\u001b[0;32m    632\u001b[0m                 \u001b[0mnum\u001b[0m \u001b[1;33m-=\u001b[0m \u001b[0mndarray\u001b[0m\u001b[1;33m.\u001b[0m\u001b[0msum\u001b[0m\u001b[1;33m(\u001b[0m\u001b[0mignore\u001b[0m\u001b[1;33m)\u001b[0m\u001b[1;33m.\u001b[0m\u001b[0masscalar\u001b[0m\u001b[1;33m(\u001b[0m\u001b[1;33m)\u001b[0m\u001b[1;33m\u001b[0m\u001b[0m\n\u001b[0;32m    633\u001b[0m                 \u001b[0mpred\u001b[0m \u001b[1;33m=\u001b[0m \u001b[0mpred\u001b[0m\u001b[1;33m*\u001b[0m\u001b[1;33m(\u001b[0m\u001b[1;36m1\u001b[0m\u001b[1;33m-\u001b[0m\u001b[0mignore\u001b[0m\u001b[1;33m)\u001b[0m \u001b[1;33m+\u001b[0m \u001b[0mignore\u001b[0m\u001b[1;33m\u001b[0m\u001b[0m\n\u001b[1;32m--> 634\u001b[1;33m             \u001b[0mloss\u001b[0m \u001b[1;33m-=\u001b[0m \u001b[0mndarray\u001b[0m\u001b[1;33m.\u001b[0m\u001b[0msum\u001b[0m\u001b[1;33m(\u001b[0m\u001b[0mndarray\u001b[0m\u001b[1;33m.\u001b[0m\u001b[0mlog\u001b[0m\u001b[1;33m(\u001b[0m\u001b[0mndarray\u001b[0m\u001b[1;33m.\u001b[0m\u001b[0mmaximum\u001b[0m\u001b[1;33m(\u001b[0m\u001b[1;36m1e-10\u001b[0m\u001b[1;33m,\u001b[0m \u001b[0mpred\u001b[0m\u001b[1;33m)\u001b[0m\u001b[1;33m)\u001b[0m\u001b[1;33m)\u001b[0m\u001b[1;33m.\u001b[0m\u001b[0masscalar\u001b[0m\u001b[1;33m(\u001b[0m\u001b[1;33m)\u001b[0m\u001b[1;33m\u001b[0m\u001b[0m\n\u001b[0m\u001b[0;32m    635\u001b[0m             \u001b[0mnum\u001b[0m \u001b[1;33m+=\u001b[0m \u001b[0mpred\u001b[0m\u001b[1;33m.\u001b[0m\u001b[0msize\u001b[0m\u001b[1;33m\u001b[0m\u001b[0m\n\u001b[0;32m    636\u001b[0m         \u001b[0mself\u001b[0m\u001b[1;33m.\u001b[0m\u001b[0msum_metric\u001b[0m \u001b[1;33m+=\u001b[0m \u001b[0mloss\u001b[0m\u001b[1;33m\u001b[0m\u001b[0m\n",
      "\u001b[1;32m/home/gengshan/MXNet/mxnet/python/mxnet/ndarray.pyc\u001b[0m in \u001b[0;36masscalar\u001b[1;34m(self)\u001b[0m\n\u001b[0;32m    787\u001b[0m         \u001b[1;32mif\u001b[0m \u001b[0mself\u001b[0m\u001b[1;33m.\u001b[0m\u001b[0mshape\u001b[0m \u001b[1;33m!=\u001b[0m \u001b[1;33m(\u001b[0m\u001b[1;36m1\u001b[0m\u001b[1;33m,\u001b[0m\u001b[1;33m)\u001b[0m\u001b[1;33m:\u001b[0m\u001b[1;33m\u001b[0m\u001b[0m\n\u001b[0;32m    788\u001b[0m             \u001b[1;32mraise\u001b[0m \u001b[0mValueError\u001b[0m\u001b[1;33m(\u001b[0m\u001b[1;34m\"The current array is not a scalar\"\u001b[0m\u001b[1;33m)\u001b[0m\u001b[1;33m\u001b[0m\u001b[0m\n\u001b[1;32m--> 789\u001b[1;33m         \u001b[1;32mreturn\u001b[0m \u001b[0mself\u001b[0m\u001b[1;33m.\u001b[0m\u001b[0masnumpy\u001b[0m\u001b[1;33m(\u001b[0m\u001b[1;33m)\u001b[0m\u001b[1;33m[\u001b[0m\u001b[1;36m0\u001b[0m\u001b[1;33m]\u001b[0m\u001b[1;33m\u001b[0m\u001b[0m\n\u001b[0m\u001b[0;32m    790\u001b[0m \u001b[1;33m\u001b[0m\u001b[0m\n\u001b[0;32m    791\u001b[0m     \u001b[1;32mdef\u001b[0m \u001b[0mastype\u001b[0m\u001b[1;33m(\u001b[0m\u001b[0mself\u001b[0m\u001b[1;33m,\u001b[0m \u001b[0mdtype\u001b[0m\u001b[1;33m)\u001b[0m\u001b[1;33m:\u001b[0m\u001b[1;33m\u001b[0m\u001b[0m\n",
      "\u001b[1;32m/home/gengshan/MXNet/mxnet/python/mxnet/ndarray.pyc\u001b[0m in \u001b[0;36masnumpy\u001b[1;34m(self)\u001b[0m\n\u001b[0;32m    769\u001b[0m             \u001b[0mself\u001b[0m\u001b[1;33m.\u001b[0m\u001b[0mhandle\u001b[0m\u001b[1;33m,\u001b[0m\u001b[1;33m\u001b[0m\u001b[0m\n\u001b[0;32m    770\u001b[0m             \u001b[0mdata\u001b[0m\u001b[1;33m.\u001b[0m\u001b[0mctypes\u001b[0m\u001b[1;33m.\u001b[0m\u001b[0mdata_as\u001b[0m\u001b[1;33m(\u001b[0m\u001b[0mctypes\u001b[0m\u001b[1;33m.\u001b[0m\u001b[0mc_void_p\u001b[0m\u001b[1;33m)\u001b[0m\u001b[1;33m,\u001b[0m\u001b[1;33m\u001b[0m\u001b[0m\n\u001b[1;32m--> 771\u001b[1;33m             ctypes.c_size_t(data.size)))\n\u001b[0m\u001b[0;32m    772\u001b[0m         \u001b[1;32mreturn\u001b[0m \u001b[0mdata\u001b[0m\u001b[1;33m\u001b[0m\u001b[0m\n\u001b[0;32m    773\u001b[0m \u001b[1;33m\u001b[0m\u001b[0m\n",
      "\u001b[1;31mKeyboardInterrupt\u001b[0m: "
     ]
    }
   ],
   "source": [
    "model.fit(\n",
    "    train_data          = data_train,\n",
    "    eval_data           = data_train,\n",
    "    eval_metric         = mx.metric.Perplexity(invalid_label),\n",
    "    kvstore             = 'device',\n",
    "    optimizer           = 'sgd',\n",
    "    optimizer_params    = { 'learning_rate': 0.01,\n",
    "                            'momentum': 0,\n",
    "                            'wd': 0.00001 },\n",
    "    initializer         = mx.init.Xavier(factor_type=\"in\", magnitude=2.34),\n",
    "    num_epoch           = num_epochs,\n",
    "    batch_end_callback  = mx.callback.Speedometer(batch_size, disp_batches))"
   ]
  },
  {
   "cell_type": "code",
   "execution_count": 29,
   "metadata": {
    "collapsed": false
   },
   "outputs": [
    {
     "data": {
      "text/plain": [
       "[('data', (32, 129, 28)),\n",
       " ('l0_init_c', (32, 512)),\n",
       " ('l1_init_c', (32, 512)),\n",
       " ('l2_init_c', (32, 512)),\n",
       " ('l0_init_h', (32, 512)),\n",
       " ('l1_init_h', (32, 512)),\n",
       " ('l2_init_h', (32, 512))]"
      ]
     },
     "execution_count": 29,
     "metadata": {},
     "output_type": "execute_result"
    }
   ],
   "source": [
    "data_train.provide_data"
   ]
  },
  {
   "cell_type": "code",
   "execution_count": null,
   "metadata": {
    "collapsed": true
   },
   "outputs": [],
   "source": []
  },
  {
   "cell_type": "code",
   "execution_count": 23,
   "metadata": {
    "collapsed": true
   },
   "outputs": [],
   "source": [
    "input_dim = 28\n",
    "embed_dim = 256\n",
    "sequence_length = 2\n"
   ]
  },
  {
   "cell_type": "code",
   "execution_count": 24,
   "metadata": {
    "collapsed": false
   },
   "outputs": [],
   "source": [
    "import mxnet as mx\n",
    "# Shape of 'step_data' is (batch_size,).\n",
    "step_input = mx.symbol.Variable('step_data')\n",
    "\n",
    "# First we embed our raw input data to be used as LSTM's input.\n",
    "embedded_step = mx.symbol.Embedding(data=step_input, \\\n",
    "                                    input_dim=input_dim, \\\n",
    "                                    output_dim=embed_dim)\n",
    "\n",
    "# Then we create an LSTM cell.\n",
    "lstm_cell = mx.rnn.LSTMCell(num_hidden=50)\n",
    "# Initialize its hidden and memory states.\n",
    "# 'begin_state' method takes an initialization function, and uses 'zeros' by default.\n",
    "begin_state = lstm_cell.begin_state()"
   ]
  },
  {
   "cell_type": "code",
   "execution_count": 25,
   "metadata": {
    "collapsed": true
   },
   "outputs": [],
   "source": [
    "# Call the cell to get the output of one time step for a batch.\n",
    "output, states = lstm_cell(embedded_step, begin_state)\n",
    "\n",
    "# 'output' is lstm_t0_out_output of shape (batch_size, hidden_dim).\n",
    "\n",
    "# 'states' has the recurrent states that will be carried over to the next step,\n",
    "# which includes both the \"hidden state\" and the \"cell state\":\n",
    "# Both 'lstm_t0_out_output' and 'lstm_t0_state_output' have shape (batch_size, hidden_dim)."
   ]
  },
  {
   "cell_type": "code",
   "execution_count": 26,
   "metadata": {
    "collapsed": true
   },
   "outputs": [],
   "source": [
    "# Embed a sequence. 'seq_data' has the shape of (batch_size, sequence_length).\n",
    "seq_input = mx.symbol.Variable('seq_data')\n",
    "embedded_seq = mx.symbol.Embedding(data=seq_input, \\\n",
    "                                   input_dim=input_dim, \\\n",
    "                                   output_dim=embed_dim)"
   ]
  },
  {
   "cell_type": "code",
   "execution_count": 36,
   "metadata": {
    "collapsed": false
   },
   "outputs": [],
   "source": [
    "# Note that when unrolling, if 'merge_outputs' is set to True, the 'outputs' is merged into a single symbol\n",
    "# In the layout, 'N' represents batch size, 'T' represents sequence length, and 'C' represents the\n",
    "# number of dimensions in hidden states.\n",
    "outputs, states = lstm_cell.unroll(length=sequence_length, \\\n",
    "                                   inputs=embedded_seq, \\\n",
    "                                   layout='NTC', \\\n",
    "                                   merge_outputs=True)"
   ]
  },
  {
   "cell_type": "code",
   "execution_count": null,
   "metadata": {
    "collapsed": true
   },
   "outputs": [],
   "source": []
  },
  {
   "cell_type": "code",
   "execution_count": 33,
   "metadata": {
    "collapsed": false
   },
   "outputs": [
    {
     "data": {
      "text/plain": [
       "[<Symbol lstm_t0_out>, <Symbol lstm_t1_out>]"
      ]
     },
     "execution_count": 33,
     "metadata": {},
     "output_type": "execute_result"
    }
   ],
   "source": [
    "outputs2"
   ]
  },
  {
   "cell_type": "code",
   "execution_count": 35,
   "metadata": {
    "collapsed": false
   },
   "outputs": [
    {
     "data": {
      "text/plain": [
       "'3.pdf'"
      ]
     },
     "execution_count": 35,
     "metadata": {},
     "output_type": "execute_result"
    }
   ],
   "source": [
    "mx.viz.plot_network(outputs2[1]).render('3')"
   ]
  },
  {
   "cell_type": "code",
   "execution_count": null,
   "metadata": {
    "collapsed": true
   },
   "outputs": [],
   "source": []
  }
 ],
 "metadata": {
  "kernelspec": {
   "display_name": "Python 2",
   "language": "python",
   "name": "python2"
  },
  "language_info": {
   "codemirror_mode": {
    "name": "ipython",
    "version": 2
   },
   "file_extension": ".py",
   "mimetype": "text/x-python",
   "name": "python",
   "nbconvert_exporter": "python",
   "pygments_lexer": "ipython2",
   "version": "2.7.6"
  }
 },
 "nbformat": 4,
 "nbformat_minor": 1
}
