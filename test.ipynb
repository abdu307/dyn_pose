{
 "cells": [
  {
   "cell_type": "code",
   "execution_count": 7,
   "metadata": {
    "collapsed": true
   },
   "outputs": [],
   "source": [
    "import glob\n",
    "import os"
   ]
  },
  {
   "cell_type": "code",
   "execution_count": 29,
   "metadata": {
    "collapsed": true
   },
   "outputs": [],
   "source": [
    "base_path = '/home/gengshan/workJan/poseEstm_rtpose/camData/'"
   ]
  },
  {
   "cell_type": "code",
   "execution_count": 32,
   "metadata": {
    "collapsed": false
   },
   "outputs": [
    {
     "name": "stdout",
     "output_type": "stream",
     "text": [
      "['/home/gengshan/workJan/poseEstm_rtpose/camData/lhandsup/1/20170116_134023/', '/home/gengshan/workJan/poseEstm_rtpose/camData/lhandsup/1/20170116_134107/', '/home/gengshan/workJan/poseEstm_rtpose/camData/lhandsup/1/20170116_134047/', '/home/gengshan/workJan/poseEstm_rtpose/camData/lhandsup/1/20170116_134059/']\n",
      "['/home/gengshan/workJan/poseEstm_rtpose/camData/lhandsup/2/20170116_134338/', '/home/gengshan/workJan/poseEstm_rtpose/camData/lhandsup/2/20170116_134325/', '/home/gengshan/workJan/poseEstm_rtpose/camData/lhandsup/2/20170116_134331/']\n",
      "['/home/gengshan/workJan/poseEstm_rtpose/camData/lhandsup/3/20170116_134525/', '/home/gengshan/workJan/poseEstm_rtpose/camData/lhandsup/3/20170116_134531/', '/home/gengshan/workJan/poseEstm_rtpose/camData/lhandsup/3/20170116_134537/']\n",
      "['/home/gengshan/workJan/poseEstm_rtpose/camData/lhandsup/4/20170116_134700/', '/home/gengshan/workJan/poseEstm_rtpose/camData/lhandsup/4/20170116_134648/', '/home/gengshan/workJan/poseEstm_rtpose/camData/lhandsup/4/20170116_134654/']\n",
      "['/home/gengshan/workJan/poseEstm_rtpose/camData/static/1/20170116_134123/', '/home/gengshan/workJan/poseEstm_rtpose/camData/static/1/20170116_134150/', '/home/gengshan/workJan/poseEstm_rtpose/camData/static/1/20170116_134143/']\n",
      "['/home/gengshan/workJan/poseEstm_rtpose/camData/static/2/20170116_134345/', '/home/gengshan/workJan/poseEstm_rtpose/camData/static/2/20170116_134358/']\n",
      "['/home/gengshan/workJan/poseEstm_rtpose/camData/static/3/20170116_134544/', '/home/gengshan/workJan/poseEstm_rtpose/camData/static/3/20170116_134550/', '/home/gengshan/workJan/poseEstm_rtpose/camData/static/3/20170116_134557/']\n",
      "['/home/gengshan/workJan/poseEstm_rtpose/camData/static/4/20170116_134715/', '/home/gengshan/workJan/poseEstm_rtpose/camData/static/4/20170116_134708/']\n"
     ]
    }
   ],
   "source": [
    "for cls in glob.glob(base_path+'/*'):\n",
    "    for subcls in glob.glob( cls+'/*'):\n",
    "        path  = glob.glob( subcls+'/*/')\n",
    "        print path"
   ]
  },
  {
   "cell_type": "code",
   "execution_count": 14,
   "metadata": {
    "collapsed": false
   },
   "outputs": [
    {
     "data": {
      "text/plain": [
       "['/home/gengshan/workJan/poseEstm_rtpose/camData/lhandsup',\n",
       " '/home/gengshan/workJan/poseEstm_rtpose/camData/static']"
      ]
     },
     "execution_count": 14,
     "metadata": {},
     "output_type": "execute_result"
    }
   ],
   "source": [
    "glob.glob('/home/gengshan/workJan/poseEstm_rtpose/camData/*')"
   ]
  },
  {
   "cell_type": "code",
   "execution_count": null,
   "metadata": {
    "collapsed": true
   },
   "outputs": [],
   "source": []
  },
  {
   "cell_type": "code",
   "execution_count": null,
   "metadata": {
    "collapsed": true
   },
   "outputs": [],
   "source": []
  },
  {
   "cell_type": "code",
   "execution_count": 1,
   "metadata": {
    "collapsed": false
   },
   "outputs": [
    {
     "name": "stderr",
     "output_type": "stream",
     "text": [
      "/usr/lib/python2.7/dist-packages/numpy/oldnumeric/__init__.py:11: ModuleDeprecationWarning: The oldnumeric module will be dropped in Numpy 1.9\n",
      "  warnings.warn(_msg, ModuleDeprecationWarning)\n"
     ]
    }
   ],
   "source": [
    "import numpy as np\n",
    "import json\n",
    "import mxnet as mx\n",
    "from poserecog.bucket_io import BucketSentenceIter\n",
    "\n",
    "import logging"
   ]
  },
  {
   "cell_type": "code",
   "execution_count": 2,
   "metadata": {
    "collapsed": true
   },
   "outputs": [],
   "source": [
    "contexts = mx.context.gpu(5)"
   ]
  },
  {
   "cell_type": "code",
   "execution_count": 3,
   "metadata": {
    "collapsed": false
   },
   "outputs": [],
   "source": [
    "batch_size = 32  #\n",
    "disp_batches = 50\n",
    "buckets = [129]  #\n",
    "num_epochs = 25\n",
    "num_hidden = 512\n",
    "num_lstm_layer = 3\n",
    "init_c = [('l%d_init_c'%l, (batch_size, num_hidden)) for l in range(num_lstm_layer)]\n",
    "init_h = [('l%d_init_h'%l, (batch_size, num_hidden)) for l in range(num_lstm_layer)]\n",
    "init_states = init_c + init_h\n",
    "invalid_label = 0"
   ]
  },
  {
   "cell_type": "code",
   "execution_count": 4,
   "metadata": {
    "collapsed": false
   },
   "outputs": [
    {
     "data": {
      "text/plain": [
       "[('l0_init_c', (32, 512)), ('l1_init_c', (32, 512)), ('l2_init_c', (32, 512))]"
      ]
     },
     "execution_count": 4,
     "metadata": {},
     "output_type": "execute_result"
    }
   ],
   "source": [
    "init_c"
   ]
  },
  {
   "cell_type": "code",
   "execution_count": null,
   "metadata": {
    "collapsed": true
   },
   "outputs": [],
   "source": []
  },
  {
   "cell_type": "code",
   "execution_count": 5,
   "metadata": {
    "collapsed": false
   },
   "outputs": [
    {
     "name": "stdout",
     "output_type": "stream",
     "text": [
      "reading from out\n",
      "categories: set(['static', 'lhandsup'])\n",
      "label: 0, category: static\n",
      "out/static_20170116_134123.json\n",
      "out/static_20170116_134150.json\n",
      "out/static_20170116_134143.json\n",
      "out/static_20170116_134345.json\n",
      "out/static_20170116_134358.json\n",
      "out/static_20170116_134544.json\n",
      "out/static_20170116_134550.json\n",
      "out/static_20170116_134557.json\n",
      "out/static_20170116_134715.json\n",
      "out/static_20170116_134708.json\n",
      "label: 1, category: lhandsup\n",
      "out/lhandsup_20170116_134023.json\n",
      "out/lhandsup_20170116_134107.json\n",
      "out/lhandsup_20170116_134047.json\n",
      "out/lhandsup_20170116_134059.json\n",
      "out/lhandsup_20170116_134338.json\n",
      "out/lhandsup_20170116_134325.json\n",
      "out/lhandsup_20170116_134331.json\n",
      "out/lhandsup_20170116_134525.json\n",
      "out/lhandsup_20170116_134531.json\n",
      "out/lhandsup_20170116_134537.json\n",
      "out/lhandsup_20170116_134700.json\n",
      "out/lhandsup_20170116_134648.json\n",
      "out/lhandsup_20170116_134654.json\n",
      "23 samples\n",
      "Summary of dataset ==================\n",
      "bucket of len 129 : 736 samples\n",
      "[('data', (32, 129, 28))]\n",
      "[('softmax_label', (32, 129))]\n"
     ]
    }
   ],
   "source": [
    "data_train = BucketSentenceIter(buckets, batch_size,\n",
    "                                init_states, dataPath = 'out' )"
   ]
  },
  {
   "cell_type": "code",
   "execution_count": 6,
   "metadata": {
    "collapsed": false
   },
   "outputs": [],
   "source": [
    "stack = mx.rnn.SequentialRNNCell()\n",
    "for i in range(num_lstm_layer):\n",
    "    stack.add(mx.rnn.LSTMCell(num_hidden=num_hidden, prefix='lstm_l%d_'%i))"
   ]
  },
  {
   "cell_type": "code",
   "execution_count": 7,
   "metadata": {
    "collapsed": true
   },
   "outputs": [],
   "source": [
    "def sym_gen(seq_len):\n",
    "    data = mx.sym.Variable('data')\n",
    "    label = mx.sym.Variable('softmax_label')\n",
    "    embed = mx.sym.Embedding(data=data, input_dim=28,\n",
    "                             output_dim=200, name='embed')\n",
    "\n",
    "    stack.reset()\n",
    "    outputs, states = stack.unroll(seq_len, inputs=embed, merge_outputs=True)\n",
    "\n",
    "    pred = mx.sym.Reshape(outputs, shape=(-1, num_hidden))\n",
    "    pred = mx.sym.FullyConnected(data=pred, num_hidden=28, name='pred')\n",
    "\n",
    "    label = mx.sym.Reshape(label, shape=(-1,))\n",
    "    pred = mx.sym.SoftmaxOutput(data=pred, label=label, name='softmax')\n",
    "\n",
    "    return pred, ('data',), ('softmax_label',)"
   ]
  },
  {
   "cell_type": "code",
   "execution_count": 8,
   "metadata": {
    "collapsed": false
   },
   "outputs": [],
   "source": [
    "model = mx.mod.BucketingModule(\n",
    "    sym_gen             = sym_gen,\n",
    "    default_bucket_key  = data_train.default_bucket_key,\n",
    "    context             = contexts)"
   ]
  },
  {
   "cell_type": "code",
   "execution_count": 10,
   "metadata": {
    "collapsed": false
   },
   "outputs": [
    {
     "name": "stderr",
     "output_type": "stream",
     "text": [
      "WARNING:root:Already bound, ignoring bind()\n",
      "WARNING:root:optimizer already initialized, ignoring.\n"
     ]
    },
    {
     "ename": "KeyboardInterrupt",
     "evalue": "",
     "output_type": "error",
     "traceback": [
      "\u001b[1;31m---------------------------------------------------------------------------\u001b[0m",
      "\u001b[1;31mKeyboardInterrupt\u001b[0m                         Traceback (most recent call last)",
      "\u001b[1;32m<ipython-input-10-75e9187fa602>\u001b[0m in \u001b[0;36m<module>\u001b[1;34m()\u001b[0m\n\u001b[0;32m     10\u001b[0m     \u001b[0minitializer\u001b[0m         \u001b[1;33m=\u001b[0m \u001b[0mmx\u001b[0m\u001b[1;33m.\u001b[0m\u001b[0minit\u001b[0m\u001b[1;33m.\u001b[0m\u001b[0mXavier\u001b[0m\u001b[1;33m(\u001b[0m\u001b[0mfactor_type\u001b[0m\u001b[1;33m=\u001b[0m\u001b[1;34m\"in\"\u001b[0m\u001b[1;33m,\u001b[0m \u001b[0mmagnitude\u001b[0m\u001b[1;33m=\u001b[0m\u001b[1;36m2.34\u001b[0m\u001b[1;33m)\u001b[0m\u001b[1;33m,\u001b[0m\u001b[1;33m\u001b[0m\u001b[0m\n\u001b[0;32m     11\u001b[0m     \u001b[0mnum_epoch\u001b[0m           \u001b[1;33m=\u001b[0m \u001b[0mnum_epochs\u001b[0m\u001b[1;33m,\u001b[0m\u001b[1;33m\u001b[0m\u001b[0m\n\u001b[1;32m---> 12\u001b[1;33m     batch_end_callback  = mx.callback.Speedometer(batch_size, disp_batches))\n\u001b[0m",
      "\u001b[1;32m/home/gengshan/MXNet/mxnet/python/mxnet/module/base_module.pyc\u001b[0m in \u001b[0;36mfit\u001b[1;34m(self, train_data, eval_data, eval_metric, epoch_end_callback, batch_end_callback, kvstore, optimizer, optimizer_params, eval_end_callback, eval_batch_end_callback, initializer, arg_params, aux_params, allow_missing, force_rebind, force_init, begin_epoch, num_epoch, validation_metric, monitor)\u001b[0m\n\u001b[0;32m    479\u001b[0m                     \u001b[0mend_of_batch\u001b[0m \u001b[1;33m=\u001b[0m \u001b[0mTrue\u001b[0m\u001b[1;33m\u001b[0m\u001b[0m\n\u001b[0;32m    480\u001b[0m \u001b[1;33m\u001b[0m\u001b[0m\n\u001b[1;32m--> 481\u001b[1;33m                 \u001b[0mself\u001b[0m\u001b[1;33m.\u001b[0m\u001b[0mupdate_metric\u001b[0m\u001b[1;33m(\u001b[0m\u001b[0meval_metric\u001b[0m\u001b[1;33m,\u001b[0m \u001b[0mdata_batch\u001b[0m\u001b[1;33m.\u001b[0m\u001b[0mlabel\u001b[0m\u001b[1;33m)\u001b[0m\u001b[1;33m\u001b[0m\u001b[0m\n\u001b[0m\u001b[0;32m    482\u001b[0m \u001b[1;33m\u001b[0m\u001b[0m\n\u001b[0;32m    483\u001b[0m                 \u001b[1;32mif\u001b[0m \u001b[0mmonitor\u001b[0m \u001b[1;32mis\u001b[0m \u001b[1;32mnot\u001b[0m \u001b[0mNone\u001b[0m\u001b[1;33m:\u001b[0m\u001b[1;33m\u001b[0m\u001b[0m\n",
      "\u001b[1;32m/home/gengshan/MXNet/mxnet/python/mxnet/module/bucketing_module.pyc\u001b[0m in \u001b[0;36mupdate_metric\u001b[1;34m(self, eval_metric, labels)\u001b[0m\n\u001b[0;32m    453\u001b[0m         \"\"\"\n\u001b[0;32m    454\u001b[0m         \u001b[1;32massert\u001b[0m \u001b[0mself\u001b[0m\u001b[1;33m.\u001b[0m\u001b[0mbinded\u001b[0m \u001b[1;32mand\u001b[0m \u001b[0mself\u001b[0m\u001b[1;33m.\u001b[0m\u001b[0mparams_initialized\u001b[0m\u001b[1;33m\u001b[0m\u001b[0m\n\u001b[1;32m--> 455\u001b[1;33m         \u001b[0mself\u001b[0m\u001b[1;33m.\u001b[0m\u001b[0m_curr_module\u001b[0m\u001b[1;33m.\u001b[0m\u001b[0mupdate_metric\u001b[0m\u001b[1;33m(\u001b[0m\u001b[0meval_metric\u001b[0m\u001b[1;33m,\u001b[0m \u001b[0mlabels\u001b[0m\u001b[1;33m)\u001b[0m\u001b[1;33m\u001b[0m\u001b[0m\n\u001b[0m\u001b[0;32m    456\u001b[0m \u001b[1;33m\u001b[0m\u001b[0m\n\u001b[0;32m    457\u001b[0m     \u001b[1;33m@\u001b[0m\u001b[0mproperty\u001b[0m\u001b[1;33m\u001b[0m\u001b[0m\n",
      "\u001b[1;32m/home/gengshan/MXNet/mxnet/python/mxnet/module/module.pyc\u001b[0m in \u001b[0;36mupdate_metric\u001b[1;34m(self, eval_metric, labels)\u001b[0m\n\u001b[0;32m    662\u001b[0m             \u001b[0mTypically\u001b[0m \u001b[1;33m`\u001b[0m\u001b[1;33m`\u001b[0m\u001b[0mdata_batch\u001b[0m\u001b[1;33m.\u001b[0m\u001b[0mlabel\u001b[0m\u001b[1;33m`\u001b[0m\u001b[1;33m`\u001b[0m\u001b[1;33m.\u001b[0m\u001b[1;33m\u001b[0m\u001b[0m\n\u001b[0;32m    663\u001b[0m         \"\"\"\n\u001b[1;32m--> 664\u001b[1;33m         \u001b[0mself\u001b[0m\u001b[1;33m.\u001b[0m\u001b[0m_exec_group\u001b[0m\u001b[1;33m.\u001b[0m\u001b[0mupdate_metric\u001b[0m\u001b[1;33m(\u001b[0m\u001b[0meval_metric\u001b[0m\u001b[1;33m,\u001b[0m \u001b[0mlabels\u001b[0m\u001b[1;33m)\u001b[0m\u001b[1;33m\u001b[0m\u001b[0m\n\u001b[0m\u001b[0;32m    665\u001b[0m \u001b[1;33m\u001b[0m\u001b[0m\n\u001b[0;32m    666\u001b[0m     \u001b[1;32mdef\u001b[0m \u001b[0m_sync_params_from_devices\u001b[0m\u001b[1;33m(\u001b[0m\u001b[0mself\u001b[0m\u001b[1;33m)\u001b[0m\u001b[1;33m:\u001b[0m\u001b[1;33m\u001b[0m\u001b[0m\n",
      "\u001b[1;32m/home/gengshan/MXNet/mxnet/python/mxnet/module/executor_group.pyc\u001b[0m in \u001b[0;36mupdate_metric\u001b[1;34m(self, eval_metric, labels)\u001b[0m\n\u001b[0;32m    556\u001b[0m             \u001b[0mlabels_\u001b[0m \u001b[1;33m=\u001b[0m \u001b[0mOrderedDict\u001b[0m\u001b[1;33m(\u001b[0m\u001b[0mzip\u001b[0m\u001b[1;33m(\u001b[0m\u001b[0mself\u001b[0m\u001b[1;33m.\u001b[0m\u001b[0mlabel_names\u001b[0m\u001b[1;33m,\u001b[0m \u001b[0mlabels_slice\u001b[0m\u001b[1;33m)\u001b[0m\u001b[1;33m)\u001b[0m\u001b[1;33m\u001b[0m\u001b[0m\n\u001b[0;32m    557\u001b[0m             \u001b[0mpreds\u001b[0m \u001b[1;33m=\u001b[0m \u001b[0mOrderedDict\u001b[0m\u001b[1;33m(\u001b[0m\u001b[0mzip\u001b[0m\u001b[1;33m(\u001b[0m\u001b[0mself\u001b[0m\u001b[1;33m.\u001b[0m\u001b[0moutput_names\u001b[0m\u001b[1;33m,\u001b[0m \u001b[0mtexec\u001b[0m\u001b[1;33m.\u001b[0m\u001b[0moutputs\u001b[0m\u001b[1;33m)\u001b[0m\u001b[1;33m)\u001b[0m\u001b[1;33m\u001b[0m\u001b[0m\n\u001b[1;32m--> 558\u001b[1;33m             \u001b[0meval_metric\u001b[0m\u001b[1;33m.\u001b[0m\u001b[0mupdate_dict\u001b[0m\u001b[1;33m(\u001b[0m\u001b[0mlabels_\u001b[0m\u001b[1;33m,\u001b[0m \u001b[0mpreds\u001b[0m\u001b[1;33m)\u001b[0m\u001b[1;33m\u001b[0m\u001b[0m\n\u001b[0m\u001b[0;32m    559\u001b[0m \u001b[1;33m\u001b[0m\u001b[0m\n\u001b[0;32m    560\u001b[0m     \u001b[1;32mdef\u001b[0m \u001b[0m_bind_ith_exec\u001b[0m\u001b[1;33m(\u001b[0m\u001b[0mself\u001b[0m\u001b[1;33m,\u001b[0m \u001b[0mi\u001b[0m\u001b[1;33m,\u001b[0m \u001b[0mdata_shapes\u001b[0m\u001b[1;33m,\u001b[0m \u001b[0mlabel_shapes\u001b[0m\u001b[1;33m,\u001b[0m \u001b[0mshared_group\u001b[0m\u001b[1;33m)\u001b[0m\u001b[1;33m:\u001b[0m\u001b[1;33m\u001b[0m\u001b[0m\n",
      "\u001b[1;32m/home/gengshan/MXNet/mxnet/python/mxnet/metric.pyc\u001b[0m in \u001b[0;36mupdate_dict\u001b[1;34m(self, label, pred)\u001b[0m\n\u001b[0;32m     89\u001b[0m             \u001b[0mlabel\u001b[0m \u001b[1;33m=\u001b[0m \u001b[0mlabel\u001b[0m\u001b[1;33m.\u001b[0m\u001b[0mvalues\u001b[0m\u001b[1;33m(\u001b[0m\u001b[1;33m)\u001b[0m\u001b[1;33m\u001b[0m\u001b[0m\n\u001b[0;32m     90\u001b[0m \u001b[1;33m\u001b[0m\u001b[0m\n\u001b[1;32m---> 91\u001b[1;33m         \u001b[0mself\u001b[0m\u001b[1;33m.\u001b[0m\u001b[0mupdate\u001b[0m\u001b[1;33m(\u001b[0m\u001b[0mlabel\u001b[0m\u001b[1;33m,\u001b[0m \u001b[0mpred\u001b[0m\u001b[1;33m)\u001b[0m\u001b[1;33m\u001b[0m\u001b[0m\n\u001b[0m\u001b[0;32m     92\u001b[0m \u001b[1;33m\u001b[0m\u001b[0m\n\u001b[0;32m     93\u001b[0m     \u001b[1;32mdef\u001b[0m \u001b[0mupdate\u001b[0m\u001b[1;33m(\u001b[0m\u001b[0mself\u001b[0m\u001b[1;33m,\u001b[0m \u001b[0mlabels\u001b[0m\u001b[1;33m,\u001b[0m \u001b[0mpreds\u001b[0m\u001b[1;33m)\u001b[0m\u001b[1;33m:\u001b[0m\u001b[1;33m\u001b[0m\u001b[0m\n",
      "\u001b[1;32m/home/gengshan/MXNet/mxnet/python/mxnet/metric.pyc\u001b[0m in \u001b[0;36mupdate\u001b[1;34m(self, labels, preds)\u001b[0m\n\u001b[0;32m    632\u001b[0m                 \u001b[0mnum\u001b[0m \u001b[1;33m-=\u001b[0m \u001b[0mndarray\u001b[0m\u001b[1;33m.\u001b[0m\u001b[0msum\u001b[0m\u001b[1;33m(\u001b[0m\u001b[0mignore\u001b[0m\u001b[1;33m)\u001b[0m\u001b[1;33m.\u001b[0m\u001b[0masscalar\u001b[0m\u001b[1;33m(\u001b[0m\u001b[1;33m)\u001b[0m\u001b[1;33m\u001b[0m\u001b[0m\n\u001b[0;32m    633\u001b[0m                 \u001b[0mpred\u001b[0m \u001b[1;33m=\u001b[0m \u001b[0mpred\u001b[0m\u001b[1;33m*\u001b[0m\u001b[1;33m(\u001b[0m\u001b[1;36m1\u001b[0m\u001b[1;33m-\u001b[0m\u001b[0mignore\u001b[0m\u001b[1;33m)\u001b[0m \u001b[1;33m+\u001b[0m \u001b[0mignore\u001b[0m\u001b[1;33m\u001b[0m\u001b[0m\n\u001b[1;32m--> 634\u001b[1;33m             \u001b[0mloss\u001b[0m \u001b[1;33m-=\u001b[0m \u001b[0mndarray\u001b[0m\u001b[1;33m.\u001b[0m\u001b[0msum\u001b[0m\u001b[1;33m(\u001b[0m\u001b[0mndarray\u001b[0m\u001b[1;33m.\u001b[0m\u001b[0mlog\u001b[0m\u001b[1;33m(\u001b[0m\u001b[0mndarray\u001b[0m\u001b[1;33m.\u001b[0m\u001b[0mmaximum\u001b[0m\u001b[1;33m(\u001b[0m\u001b[1;36m1e-10\u001b[0m\u001b[1;33m,\u001b[0m \u001b[0mpred\u001b[0m\u001b[1;33m)\u001b[0m\u001b[1;33m)\u001b[0m\u001b[1;33m)\u001b[0m\u001b[1;33m.\u001b[0m\u001b[0masscalar\u001b[0m\u001b[1;33m(\u001b[0m\u001b[1;33m)\u001b[0m\u001b[1;33m\u001b[0m\u001b[0m\n\u001b[0m\u001b[0;32m    635\u001b[0m             \u001b[0mnum\u001b[0m \u001b[1;33m+=\u001b[0m \u001b[0mpred\u001b[0m\u001b[1;33m.\u001b[0m\u001b[0msize\u001b[0m\u001b[1;33m\u001b[0m\u001b[0m\n\u001b[0;32m    636\u001b[0m         \u001b[0mself\u001b[0m\u001b[1;33m.\u001b[0m\u001b[0msum_metric\u001b[0m \u001b[1;33m+=\u001b[0m \u001b[0mloss\u001b[0m\u001b[1;33m\u001b[0m\u001b[0m\n",
      "\u001b[1;32m/home/gengshan/MXNet/mxnet/python/mxnet/ndarray.pyc\u001b[0m in \u001b[0;36masscalar\u001b[1;34m(self)\u001b[0m\n\u001b[0;32m    787\u001b[0m         \u001b[1;32mif\u001b[0m \u001b[0mself\u001b[0m\u001b[1;33m.\u001b[0m\u001b[0mshape\u001b[0m \u001b[1;33m!=\u001b[0m \u001b[1;33m(\u001b[0m\u001b[1;36m1\u001b[0m\u001b[1;33m,\u001b[0m\u001b[1;33m)\u001b[0m\u001b[1;33m:\u001b[0m\u001b[1;33m\u001b[0m\u001b[0m\n\u001b[0;32m    788\u001b[0m             \u001b[1;32mraise\u001b[0m \u001b[0mValueError\u001b[0m\u001b[1;33m(\u001b[0m\u001b[1;34m\"The current array is not a scalar\"\u001b[0m\u001b[1;33m)\u001b[0m\u001b[1;33m\u001b[0m\u001b[0m\n\u001b[1;32m--> 789\u001b[1;33m         \u001b[1;32mreturn\u001b[0m \u001b[0mself\u001b[0m\u001b[1;33m.\u001b[0m\u001b[0masnumpy\u001b[0m\u001b[1;33m(\u001b[0m\u001b[1;33m)\u001b[0m\u001b[1;33m[\u001b[0m\u001b[1;36m0\u001b[0m\u001b[1;33m]\u001b[0m\u001b[1;33m\u001b[0m\u001b[0m\n\u001b[0m\u001b[0;32m    790\u001b[0m \u001b[1;33m\u001b[0m\u001b[0m\n\u001b[0;32m    791\u001b[0m     \u001b[1;32mdef\u001b[0m \u001b[0mastype\u001b[0m\u001b[1;33m(\u001b[0m\u001b[0mself\u001b[0m\u001b[1;33m,\u001b[0m \u001b[0mdtype\u001b[0m\u001b[1;33m)\u001b[0m\u001b[1;33m:\u001b[0m\u001b[1;33m\u001b[0m\u001b[0m\n",
      "\u001b[1;32m/home/gengshan/MXNet/mxnet/python/mxnet/ndarray.pyc\u001b[0m in \u001b[0;36masnumpy\u001b[1;34m(self)\u001b[0m\n\u001b[0;32m    769\u001b[0m             \u001b[0mself\u001b[0m\u001b[1;33m.\u001b[0m\u001b[0mhandle\u001b[0m\u001b[1;33m,\u001b[0m\u001b[1;33m\u001b[0m\u001b[0m\n\u001b[0;32m    770\u001b[0m             \u001b[0mdata\u001b[0m\u001b[1;33m.\u001b[0m\u001b[0mctypes\u001b[0m\u001b[1;33m.\u001b[0m\u001b[0mdata_as\u001b[0m\u001b[1;33m(\u001b[0m\u001b[0mctypes\u001b[0m\u001b[1;33m.\u001b[0m\u001b[0mc_void_p\u001b[0m\u001b[1;33m)\u001b[0m\u001b[1;33m,\u001b[0m\u001b[1;33m\u001b[0m\u001b[0m\n\u001b[1;32m--> 771\u001b[1;33m             ctypes.c_size_t(data.size)))\n\u001b[0m\u001b[0;32m    772\u001b[0m         \u001b[1;32mreturn\u001b[0m \u001b[0mdata\u001b[0m\u001b[1;33m\u001b[0m\u001b[0m\n\u001b[0;32m    773\u001b[0m \u001b[1;33m\u001b[0m\u001b[0m\n",
      "\u001b[1;31mKeyboardInterrupt\u001b[0m: "
     ]
    }
   ],
   "source": [
    "model.fit(\n",
    "    train_data          = data_train,\n",
    "    eval_data           = data_train,\n",
    "    eval_metric         = mx.metric.Perplexity(invalid_label),\n",
    "    kvstore             = 'device',\n",
    "    optimizer           = 'sgd',\n",
    "    optimizer_params    = { 'learning_rate': 0.01,\n",
    "                            'momentum': 0,\n",
    "                            'wd': 0.00001 },\n",
    "    initializer         = mx.init.Xavier(factor_type=\"in\", magnitude=2.34),\n",
    "    num_epoch           = num_epochs,\n",
    "    batch_end_callback  = mx.callback.Speedometer(batch_size, disp_batches))"
   ]
  },
  {
   "cell_type": "code",
   "execution_count": 29,
   "metadata": {
    "collapsed": false
   },
   "outputs": [
    {
     "data": {
      "text/plain": [
       "[('data', (32, 129, 28)),\n",
       " ('l0_init_c', (32, 512)),\n",
       " ('l1_init_c', (32, 512)),\n",
       " ('l2_init_c', (32, 512)),\n",
       " ('l0_init_h', (32, 512)),\n",
       " ('l1_init_h', (32, 512)),\n",
       " ('l2_init_h', (32, 512))]"
      ]
     },
     "execution_count": 29,
     "metadata": {},
     "output_type": "execute_result"
    }
   ],
   "source": [
    "data_train.provide_data"
   ]
  },
  {
   "cell_type": "code",
   "execution_count": 39,
   "metadata": {
    "collapsed": true
   },
   "outputs": [],
   "source": [
    "from poserecog.bucket_io import BucketSentenceIter"
   ]
  },
  {
   "cell_type": "code",
   "execution_count": 13,
   "metadata": {
    "collapsed": true
   },
   "outputs": [],
   "source": [
    "contexts = mx.context.gpu(5)\n",
    "batch_size = 1 \n",
    "num_epochs = 25\n",
    "disp_batches = 5\n",
    "\n",
    "input_dim = 28\n",
    "embed_dim = 256\n",
    "sequence_length = 1\n",
    "\n",
    "num_hidden = 10"
   ]
  },
  {
   "cell_type": "code",
   "execution_count": null,
   "metadata": {
    "collapsed": true
   },
   "outputs": [],
   "source": []
  },
  {
   "cell_type": "code",
   "execution_count": null,
   "metadata": {
    "collapsed": true
   },
   "outputs": [],
   "source": []
  },
  {
   "cell_type": "code",
   "execution_count": 16,
   "metadata": {
    "collapsed": false
   },
   "outputs": [],
   "source": [
    "import mxnet as mx\n",
    "# Then we create an LSTM cell.\n",
    "lstm_cell = mx.rnn.LSTMCell(num_hidden=num_hidden)"
   ]
  },
  {
   "cell_type": "code",
   "execution_count": 17,
   "metadata": {
    "collapsed": true
   },
   "outputs": [],
   "source": [
    "# Embed a sequence. 'seq_data' has the shape of (batch_size, sequence_length).\n",
    "seq_input = mx.symbol.Variable('seq_data')\n",
    "embedded_seq = mx.symbol.Embedding(data=seq_input, \\\n",
    "                                   input_dim=input_dim, \\\n",
    "                                   output_dim=embed_dim)"
   ]
  },
  {
   "cell_type": "code",
   "execution_count": 18,
   "metadata": {
    "collapsed": false
   },
   "outputs": [],
   "source": [
    "# Note that when unrolling, if 'merge_outputs' is set to True, the 'outputs' is merged into a single symbol\n",
    "# In the layout, 'N' represents batch size, 'T' represents sequence length, and 'C' represents the\n",
    "# number of dimensions in hidden states.\n",
    "outputs, states = lstm_cell.unroll(length=sequence_length, \\\n",
    "                                   inputs=embedded_seq, \\\n",
    "                                   layout='NTC', \\\n",
    "                                   merge_outputs=True)"
   ]
  },
  {
   "cell_type": "code",
   "execution_count": null,
   "metadata": {
    "collapsed": true
   },
   "outputs": [],
   "source": []
  },
  {
   "cell_type": "code",
   "execution_count": 19,
   "metadata": {
    "collapsed": false
   },
   "outputs": [
    {
     "data": {
      "image/svg+xml": [
       "<?xml version=\"1.0\" encoding=\"UTF-8\" standalone=\"no\"?>\n",
       "<!DOCTYPE svg PUBLIC \"-//W3C//DTD SVG 1.1//EN\"\n",
       " \"http://www.w3.org/Graphics/SVG/1.1/DTD/svg11.dtd\">\n",
       "<!-- Generated by graphviz version 2.36.0 (20140111.2315)\n",
       " -->\n",
       "<!-- Title: plot Pages: 1 -->\n",
       "<svg width=\"499pt\" height=\"1194pt\"\n",
       " viewBox=\"0.00 0.00 499.00 1194.00\" xmlns=\"http://www.w3.org/2000/svg\" xmlns:xlink=\"http://www.w3.org/1999/xlink\">\n",
       "<g id=\"graph0\" class=\"graph\" transform=\"scale(1 1) rotate(0) translate(4 1190)\">\n",
       "<title>plot</title>\n",
       "<polygon fill=\"white\" stroke=\"none\" points=\"-4,4 -4,-1190 495,-1190 495,4 -4,4\"/>\n",
       "<!-- seq_data -->\n",
       "<g id=\"node1\" class=\"node\"><title>seq_data</title>\n",
       "<ellipse fill=\"#8dd3c7\" stroke=\"black\" cx=\"164\" cy=\"-29\" rx=\"47\" ry=\"29\"/>\n",
       "<text text-anchor=\"middle\" x=\"164\" y=\"-25.3\" font-family=\"Times,serif\" font-size=\"14.00\">seq_data</text>\n",
       "</g>\n",
       "<!-- embedding2 -->\n",
       "<g id=\"node2\" class=\"node\"><title>embedding2</title>\n",
       "<polygon fill=\"#fccde5\" stroke=\"black\" points=\"211,-152 117,-152 117,-94 211,-94 211,-152\"/>\n",
       "<text text-anchor=\"middle\" x=\"164\" y=\"-119.3\" font-family=\"Times,serif\" font-size=\"14.00\">embedding2</text>\n",
       "</g>\n",
       "<!-- embedding2&#45;&gt;seq_data -->\n",
       "<g id=\"edge1\" class=\"edge\"><title>embedding2&#45;&gt;seq_data</title>\n",
       "<path fill=\"none\" stroke=\"black\" d=\"M164,-83.7443C164,-75.2043 164,-66.2977 164,-58.2479\"/>\n",
       "<polygon fill=\"black\" stroke=\"black\" points=\"164,-93.8971 159.5,-83.897 164,-88.8971 164,-83.8971 164,-83.8971 164,-83.8971 164,-88.8971 168.5,-83.8971 164,-93.8971 164,-93.8971\"/>\n",
       "</g>\n",
       "<!-- split1 -->\n",
       "<g id=\"node3\" class=\"node\"><title>split1</title>\n",
       "<polygon fill=\"#fccde5\" stroke=\"black\" points=\"211,-246 117,-246 117,-188 211,-188 211,-246\"/>\n",
       "<text text-anchor=\"middle\" x=\"164\" y=\"-213.3\" font-family=\"Times,serif\" font-size=\"14.00\">split1</text>\n",
       "</g>\n",
       "<!-- split1&#45;&gt;embedding2 -->\n",
       "<g id=\"edge2\" class=\"edge\"><title>split1&#45;&gt;embedding2</title>\n",
       "<path fill=\"none\" stroke=\"black\" d=\"M164,-177.744C164,-169.204 164,-160.298 164,-152.248\"/>\n",
       "<polygon fill=\"black\" stroke=\"black\" points=\"164,-187.897 159.5,-177.897 164,-182.897 164,-177.897 164,-177.897 164,-177.897 164,-182.897 168.5,-177.897 164,-187.897 164,-187.897\"/>\n",
       "</g>\n",
       "<!-- lstm_t0_i2h -->\n",
       "<g id=\"node4\" class=\"node\"><title>lstm_t0_i2h</title>\n",
       "<polygon fill=\"#fb8072\" stroke=\"black\" points=\"211,-340 117,-340 117,-282 211,-282 211,-340\"/>\n",
       "<text text-anchor=\"middle\" x=\"164\" y=\"-314.8\" font-family=\"Times,serif\" font-size=\"14.00\">FullyConnected</text>\n",
       "<text text-anchor=\"middle\" x=\"164\" y=\"-299.8\" font-family=\"Times,serif\" font-size=\"14.00\">40</text>\n",
       "</g>\n",
       "<!-- lstm_t0_i2h&#45;&gt;split1 -->\n",
       "<g id=\"edge3\" class=\"edge\"><title>lstm_t0_i2h&#45;&gt;split1</title>\n",
       "<path fill=\"none\" stroke=\"black\" d=\"M164,-271.744C164,-263.204 164,-254.298 164,-246.248\"/>\n",
       "<polygon fill=\"black\" stroke=\"black\" points=\"164,-281.897 159.5,-271.897 164,-276.897 164,-271.897 164,-271.897 164,-271.897 164,-276.897 168.5,-271.897 164,-281.897 164,-281.897\"/>\n",
       "</g>\n",
       "<!-- lstm_begin_state_0 -->\n",
       "<g id=\"node5\" class=\"node\"><title>lstm_begin_state_0</title>\n",
       "<polygon fill=\"#fccde5\" stroke=\"black\" points=\"323,-246 229,-246 229,-188 323,-188 323,-246\"/>\n",
       "<text text-anchor=\"middle\" x=\"276\" y=\"-213.3\" font-family=\"Times,serif\" font-size=\"14.00\">lstm_begin_state_0</text>\n",
       "</g>\n",
       "<!-- lstm_t0_h2h -->\n",
       "<g id=\"node6\" class=\"node\"><title>lstm_t0_h2h</title>\n",
       "<polygon fill=\"#fb8072\" stroke=\"black\" points=\"323,-340 229,-340 229,-282 323,-282 323,-340\"/>\n",
       "<text text-anchor=\"middle\" x=\"276\" y=\"-314.8\" font-family=\"Times,serif\" font-size=\"14.00\">FullyConnected</text>\n",
       "<text text-anchor=\"middle\" x=\"276\" y=\"-299.8\" font-family=\"Times,serif\" font-size=\"14.00\">40</text>\n",
       "</g>\n",
       "<!-- lstm_t0_h2h&#45;&gt;lstm_begin_state_0 -->\n",
       "<g id=\"edge4\" class=\"edge\"><title>lstm_t0_h2h&#45;&gt;lstm_begin_state_0</title>\n",
       "<path fill=\"none\" stroke=\"black\" d=\"M276,-271.744C276,-263.204 276,-254.298 276,-246.248\"/>\n",
       "<polygon fill=\"black\" stroke=\"black\" points=\"276,-281.897 271.5,-271.897 276,-276.897 276,-271.897 276,-271.897 276,-271.897 276,-276.897 280.5,-271.897 276,-281.897 276,-281.897\"/>\n",
       "</g>\n",
       "<!-- _plus10 -->\n",
       "<g id=\"node7\" class=\"node\"><title>_plus10</title>\n",
       "<polygon fill=\"#fccde5\" stroke=\"black\" points=\"267,-434 173,-434 173,-376 267,-376 267,-434\"/>\n",
       "<text text-anchor=\"middle\" x=\"220\" y=\"-401.3\" font-family=\"Times,serif\" font-size=\"14.00\">_plus10</text>\n",
       "</g>\n",
       "<!-- _plus10&#45;&gt;lstm_t0_i2h -->\n",
       "<g id=\"edge5\" class=\"edge\"><title>_plus10&#45;&gt;lstm_t0_i2h</title>\n",
       "<path fill=\"none\" stroke=\"black\" d=\"M197.569,-367.148C192.113,-358.186 186.363,-348.74 181.194,-340.248\"/>\n",
       "<polygon fill=\"black\" stroke=\"black\" points=\"202.894,-375.897 193.85,-369.695 200.294,-371.626 197.694,-367.355 197.694,-367.355 197.694,-367.355 200.294,-371.626 201.538,-365.015 202.894,-375.897 202.894,-375.897\"/>\n",
       "</g>\n",
       "<!-- _plus10&#45;&gt;lstm_t0_h2h -->\n",
       "<g id=\"edge6\" class=\"edge\"><title>_plus10&#45;&gt;lstm_t0_h2h</title>\n",
       "<path fill=\"none\" stroke=\"black\" d=\"M242.431,-367.148C247.887,-358.186 253.637,-348.74 258.806,-340.248\"/>\n",
       "<polygon fill=\"black\" stroke=\"black\" points=\"237.106,-375.897 238.462,-365.015 239.706,-371.626 242.306,-367.355 242.306,-367.355 242.306,-367.355 239.706,-371.626 246.15,-369.695 237.106,-375.897 237.106,-375.897\"/>\n",
       "</g>\n",
       "<!-- lstm_t0_slice -->\n",
       "<g id=\"node8\" class=\"node\"><title>lstm_t0_slice</title>\n",
       "<polygon fill=\"#fccde5\" stroke=\"black\" points=\"267,-528 173,-528 173,-470 267,-470 267,-528\"/>\n",
       "<text text-anchor=\"middle\" x=\"220\" y=\"-495.3\" font-family=\"Times,serif\" font-size=\"14.00\">lstm_t0_slice</text>\n",
       "</g>\n",
       "<!-- lstm_t0_slice&#45;&gt;_plus10 -->\n",
       "<g id=\"edge7\" class=\"edge\"><title>lstm_t0_slice&#45;&gt;_plus10</title>\n",
       "<path fill=\"none\" stroke=\"black\" d=\"M220,-459.744C220,-451.204 220,-442.298 220,-434.248\"/>\n",
       "<polygon fill=\"black\" stroke=\"black\" points=\"220,-469.897 215.5,-459.897 220,-464.897 220,-459.897 220,-459.897 220,-459.897 220,-464.897 224.5,-459.897 220,-469.897 220,-469.897\"/>\n",
       "</g>\n",
       "<!-- lstm_t0_o -->\n",
       "<g id=\"node9\" class=\"node\"><title>lstm_t0_o</title>\n",
       "<polygon fill=\"#ffffb3\" stroke=\"black\" points=\"94,-810 -7.10543e-15,-810 -7.10543e-15,-752 94,-752 94,-810\"/>\n",
       "<text text-anchor=\"middle\" x=\"47\" y=\"-784.8\" font-family=\"Times,serif\" font-size=\"14.00\">Activation</text>\n",
       "<text text-anchor=\"middle\" x=\"47\" y=\"-769.8\" font-family=\"Times,serif\" font-size=\"14.00\">sigmoid</text>\n",
       "</g>\n",
       "<!-- lstm_t0_o&#45;&gt;lstm_t0_slice -->\n",
       "<g id=\"edge8\" class=\"edge\"><title>lstm_t0_o&#45;&gt;lstm_t0_slice</title>\n",
       "<path fill=\"none\" stroke=\"black\" d=\"M36.0603,-741.753C25.202,-695.223 14.9801,-616.409 52,-564 79.3709,-525.251 133.465,-509.954 172.9,-503.92\"/>\n",
       "<polygon fill=\"black\" stroke=\"black\" points=\"38.5146,-751.731 31.7562,-743.095 37.3203,-746.875 36.1259,-742.02 36.1259,-742.02 36.1259,-742.02 37.3203,-746.875 40.4956,-740.945 38.5146,-751.731 38.5146,-751.731\"/>\n",
       "</g>\n",
       "<!-- lstm_t0_f -->\n",
       "<g id=\"node10\" class=\"node\"><title>lstm_t0_f</title>\n",
       "<polygon fill=\"#ffffb3\" stroke=\"black\" points=\"155,-622 61,-622 61,-564 155,-564 155,-622\"/>\n",
       "<text text-anchor=\"middle\" x=\"108\" y=\"-596.8\" font-family=\"Times,serif\" font-size=\"14.00\">Activation</text>\n",
       "<text text-anchor=\"middle\" x=\"108\" y=\"-581.8\" font-family=\"Times,serif\" font-size=\"14.00\">sigmoid</text>\n",
       "</g>\n",
       "<!-- lstm_t0_f&#45;&gt;lstm_t0_slice -->\n",
       "<g id=\"edge9\" class=\"edge\"><title>lstm_t0_f&#45;&gt;lstm_t0_slice</title>\n",
       "<path fill=\"none\" stroke=\"black\" d=\"M150.148,-557.378C161.849,-547.767 174.411,-537.448 185.611,-528.248\"/>\n",
       "<polygon fill=\"black\" stroke=\"black\" points=\"142.212,-563.897 147.083,-554.072 146.076,-560.723 149.94,-557.55 149.94,-557.55 149.94,-557.55 146.076,-560.723 152.796,-561.027 142.212,-563.897 142.212,-563.897\"/>\n",
       "</g>\n",
       "<!-- lstm_begin_state_1 -->\n",
       "<g id=\"node11\" class=\"node\"><title>lstm_begin_state_1</title>\n",
       "<polygon fill=\"#fccde5\" stroke=\"black\" points=\"267,-622 173,-622 173,-564 267,-564 267,-622\"/>\n",
       "<text text-anchor=\"middle\" x=\"220\" y=\"-589.3\" font-family=\"Times,serif\" font-size=\"14.00\">lstm_begin_state_1</text>\n",
       "</g>\n",
       "<!-- _mul20 -->\n",
       "<g id=\"node12\" class=\"node\"><title>_mul20</title>\n",
       "<polygon fill=\"#fccde5\" stroke=\"black\" points=\"260,-716 166,-716 166,-658 260,-658 260,-716\"/>\n",
       "<text text-anchor=\"middle\" x=\"213\" y=\"-683.3\" font-family=\"Times,serif\" font-size=\"14.00\">_mul20</text>\n",
       "</g>\n",
       "<!-- _mul20&#45;&gt;lstm_t0_f -->\n",
       "<g id=\"edge10\" class=\"edge\"><title>_mul20&#45;&gt;lstm_t0_f</title>\n",
       "<path fill=\"none\" stroke=\"black\" d=\"M173.169,-651.101C162.29,-641.568 150.638,-631.359 140.239,-622.248\"/>\n",
       "<polygon fill=\"black\" stroke=\"black\" points=\"180.926,-657.897 170.439,-654.692 177.165,-654.602 173.405,-651.307 173.405,-651.307 173.405,-651.307 177.165,-654.602 176.37,-647.922 180.926,-657.897 180.926,-657.897\"/>\n",
       "</g>\n",
       "<!-- _mul20&#45;&gt;lstm_begin_state_1 -->\n",
       "<g id=\"edge11\" class=\"edge\"><title>_mul20&#45;&gt;lstm_begin_state_1</title>\n",
       "<path fill=\"none\" stroke=\"black\" d=\"M215.911,-647.744C216.561,-639.204 217.238,-630.298 217.851,-622.248\"/>\n",
       "<polygon fill=\"black\" stroke=\"black\" points=\"215.138,-657.897 211.41,-647.584 215.518,-652.911 215.897,-647.926 215.897,-647.926 215.897,-647.926 215.518,-652.911 220.384,-648.267 215.138,-657.897 215.138,-657.897\"/>\n",
       "</g>\n",
       "<!-- lstm_t0_i -->\n",
       "<g id=\"node13\" class=\"node\"><title>lstm_t0_i</title>\n",
       "<polygon fill=\"#ffffb3\" stroke=\"black\" points=\"379,-622 285,-622 285,-564 379,-564 379,-622\"/>\n",
       "<text text-anchor=\"middle\" x=\"332\" y=\"-596.8\" font-family=\"Times,serif\" font-size=\"14.00\">Activation</text>\n",
       "<text text-anchor=\"middle\" x=\"332\" y=\"-581.8\" font-family=\"Times,serif\" font-size=\"14.00\">sigmoid</text>\n",
       "</g>\n",
       "<!-- lstm_t0_i&#45;&gt;lstm_t0_slice -->\n",
       "<g id=\"edge12\" class=\"edge\"><title>lstm_t0_i&#45;&gt;lstm_t0_slice</title>\n",
       "<path fill=\"none\" stroke=\"black\" d=\"M289.852,-557.378C278.151,-547.767 265.589,-537.448 254.389,-528.248\"/>\n",
       "<polygon fill=\"black\" stroke=\"black\" points=\"297.788,-563.897 287.204,-561.027 293.924,-560.723 290.06,-557.55 290.06,-557.55 290.06,-557.55 293.924,-560.723 292.917,-554.072 297.788,-563.897 297.788,-563.897\"/>\n",
       "</g>\n",
       "<!-- lstm_t0_c -->\n",
       "<g id=\"node14\" class=\"node\"><title>lstm_t0_c</title>\n",
       "<polygon fill=\"#ffffb3\" stroke=\"black\" points=\"491,-622 397,-622 397,-564 491,-564 491,-622\"/>\n",
       "<text text-anchor=\"middle\" x=\"444\" y=\"-596.8\" font-family=\"Times,serif\" font-size=\"14.00\">Activation</text>\n",
       "<text text-anchor=\"middle\" x=\"444\" y=\"-581.8\" font-family=\"Times,serif\" font-size=\"14.00\">tanh</text>\n",
       "</g>\n",
       "<!-- lstm_t0_c&#45;&gt;lstm_t0_slice -->\n",
       "<g id=\"edge13\" class=\"edge\"><title>lstm_t0_c&#45;&gt;lstm_t0_slice</title>\n",
       "<path fill=\"none\" stroke=\"black\" d=\"M387.367,-563.857C341.885,-544.126 298.978,-528.022 267.216,-516.559\"/>\n",
       "<polygon fill=\"black\" stroke=\"black\" points=\"396.801,-567.986 385.836,-568.099 392.221,-565.981 387.64,-563.977 387.64,-563.977 387.64,-563.977 392.221,-565.981 389.444,-559.854 396.801,-567.986 396.801,-567.986\"/>\n",
       "</g>\n",
       "<!-- _mul21 -->\n",
       "<g id=\"node15\" class=\"node\"><title>_mul21</title>\n",
       "<polygon fill=\"#fccde5\" stroke=\"black\" points=\"379,-716 285,-716 285,-658 379,-658 379,-716\"/>\n",
       "<text text-anchor=\"middle\" x=\"332\" y=\"-683.3\" font-family=\"Times,serif\" font-size=\"14.00\">_mul21</text>\n",
       "</g>\n",
       "<!-- _mul21&#45;&gt;lstm_t0_i -->\n",
       "<g id=\"edge14\" class=\"edge\"><title>_mul21&#45;&gt;lstm_t0_i</title>\n",
       "<path fill=\"none\" stroke=\"black\" d=\"M332,-647.744C332,-639.204 332,-630.298 332,-622.248\"/>\n",
       "<polygon fill=\"black\" stroke=\"black\" points=\"332,-657.897 327.5,-647.897 332,-652.897 332,-647.897 332,-647.897 332,-647.897 332,-652.897 336.5,-647.897 332,-657.897 332,-657.897\"/>\n",
       "</g>\n",
       "<!-- _mul21&#45;&gt;lstm_t0_c -->\n",
       "<g id=\"edge15\" class=\"edge\"><title>_mul21&#45;&gt;lstm_t0_c</title>\n",
       "<path fill=\"none\" stroke=\"black\" d=\"M374.148,-651.378C385.849,-641.767 398.411,-631.448 409.611,-622.248\"/>\n",
       "<polygon fill=\"black\" stroke=\"black\" points=\"366.212,-657.897 371.083,-648.072 370.076,-654.723 373.94,-651.55 373.94,-651.55 373.94,-651.55 370.076,-654.723 376.796,-655.027 366.212,-657.897 366.212,-657.897\"/>\n",
       "</g>\n",
       "<!-- lstm_t0_state -->\n",
       "<g id=\"node16\" class=\"node\"><title>lstm_t0_state</title>\n",
       "<polygon fill=\"#fccde5\" stroke=\"black\" points=\"260,-810 166,-810 166,-752 260,-752 260,-810\"/>\n",
       "<text text-anchor=\"middle\" x=\"213\" y=\"-777.3\" font-family=\"Times,serif\" font-size=\"14.00\">lstm_t0_state</text>\n",
       "</g>\n",
       "<!-- lstm_t0_state&#45;&gt;_mul20 -->\n",
       "<g id=\"edge16\" class=\"edge\"><title>lstm_t0_state&#45;&gt;_mul20</title>\n",
       "<path fill=\"none\" stroke=\"black\" d=\"M213,-741.744C213,-733.204 213,-724.298 213,-716.248\"/>\n",
       "<polygon fill=\"black\" stroke=\"black\" points=\"213,-751.897 208.5,-741.897 213,-746.897 213,-741.897 213,-741.897 213,-741.897 213,-746.897 217.5,-741.897 213,-751.897 213,-751.897\"/>\n",
       "</g>\n",
       "<!-- lstm_t0_state&#45;&gt;_mul21 -->\n",
       "<g id=\"edge17\" class=\"edge\"><title>lstm_t0_state&#45;&gt;_mul21</title>\n",
       "<path fill=\"none\" stroke=\"black\" d=\"M257.424,-745.655C269.958,-735.965 283.448,-725.536 295.462,-716.248\"/>\n",
       "<polygon fill=\"black\" stroke=\"black\" points=\"249.351,-751.897 254.51,-742.221 253.306,-748.839 257.262,-745.781 257.262,-745.781 257.262,-745.781 253.306,-748.839 260.014,-749.341 249.351,-751.897 249.351,-751.897\"/>\n",
       "</g>\n",
       "<!-- activation10 -->\n",
       "<g id=\"node17\" class=\"node\"><title>activation10</title>\n",
       "<polygon fill=\"#ffffb3\" stroke=\"black\" points=\"253,-904 159,-904 159,-846 253,-846 253,-904\"/>\n",
       "<text text-anchor=\"middle\" x=\"206\" y=\"-878.8\" font-family=\"Times,serif\" font-size=\"14.00\">Activation</text>\n",
       "<text text-anchor=\"middle\" x=\"206\" y=\"-863.8\" font-family=\"Times,serif\" font-size=\"14.00\">tanh</text>\n",
       "</g>\n",
       "<!-- activation10&#45;&gt;lstm_t0_state -->\n",
       "<g id=\"edge18\" class=\"edge\"><title>activation10&#45;&gt;lstm_t0_state</title>\n",
       "<path fill=\"none\" stroke=\"black\" d=\"M208.911,-835.744C209.561,-827.204 210.238,-818.298 210.851,-810.248\"/>\n",
       "<polygon fill=\"black\" stroke=\"black\" points=\"208.138,-845.897 204.41,-835.584 208.518,-840.911 208.897,-835.926 208.897,-835.926 208.897,-835.926 208.518,-840.911 213.384,-836.267 208.138,-845.897 208.138,-845.897\"/>\n",
       "</g>\n",
       "<!-- lstm_t0_out -->\n",
       "<g id=\"node18\" class=\"node\"><title>lstm_t0_out</title>\n",
       "<polygon fill=\"#fccde5\" stroke=\"black\" points=\"159,-998 65,-998 65,-940 159,-940 159,-998\"/>\n",
       "<text text-anchor=\"middle\" x=\"112\" y=\"-965.3\" font-family=\"Times,serif\" font-size=\"14.00\">lstm_t0_out</text>\n",
       "</g>\n",
       "<!-- lstm_t0_out&#45;&gt;lstm_t0_o -->\n",
       "<g id=\"edge19\" class=\"edge\"><title>lstm_t0_out&#45;&gt;lstm_t0_o</title>\n",
       "<path fill=\"none\" stroke=\"black\" d=\"M98.7911,-930.202C86.3683,-894.654 68.0521,-842.241 56.8583,-810.21\"/>\n",
       "<polygon fill=\"black\" stroke=\"black\" points=\"102.128,-939.751 94.5808,-931.795 100.478,-935.031 98.8289,-930.31 98.8289,-930.31 98.8289,-930.31 100.478,-935.031 103.077,-928.826 102.128,-939.751 102.128,-939.751\"/>\n",
       "</g>\n",
       "<!-- lstm_t0_out&#45;&gt;activation10 -->\n",
       "<g id=\"edge20\" class=\"edge\"><title>lstm_t0_out&#45;&gt;activation10</title>\n",
       "<path fill=\"none\" stroke=\"black\" d=\"M147.942,-932.823C157.6,-923.37 167.919,-913.271 177.138,-904.248\"/>\n",
       "<polygon fill=\"black\" stroke=\"black\" points=\"140.714,-939.897 144.713,-929.686 144.287,-936.4 147.861,-932.902 147.861,-932.902 147.861,-932.902 144.287,-936.4 151.008,-936.118 140.714,-939.897 140.714,-939.897\"/>\n",
       "</g>\n",
       "<!-- expand_dims10 -->\n",
       "<g id=\"node19\" class=\"node\"><title>expand_dims10</title>\n",
       "<polygon fill=\"#fccde5\" stroke=\"black\" points=\"159,-1092 65,-1092 65,-1034 159,-1034 159,-1092\"/>\n",
       "<text text-anchor=\"middle\" x=\"112\" y=\"-1059.3\" font-family=\"Times,serif\" font-size=\"14.00\">expand_dims10</text>\n",
       "</g>\n",
       "<!-- expand_dims10&#45;&gt;lstm_t0_out -->\n",
       "<g id=\"edge21\" class=\"edge\"><title>expand_dims10&#45;&gt;lstm_t0_out</title>\n",
       "<path fill=\"none\" stroke=\"black\" d=\"M112,-1023.74C112,-1015.2 112,-1006.3 112,-998.248\"/>\n",
       "<polygon fill=\"black\" stroke=\"black\" points=\"112,-1033.9 107.5,-1023.9 112,-1028.9 112,-1023.9 112,-1023.9 112,-1023.9 112,-1028.9 116.5,-1023.9 112,-1033.9 112,-1033.9\"/>\n",
       "</g>\n",
       "<!-- concat1 -->\n",
       "<g id=\"node20\" class=\"node\"><title>concat1</title>\n",
       "<polygon fill=\"#fdb462\" stroke=\"black\" points=\"159,-1186 65,-1186 65,-1128 159,-1128 159,-1186\"/>\n",
       "<text text-anchor=\"middle\" x=\"112\" y=\"-1153.3\" font-family=\"Times,serif\" font-size=\"14.00\">concat1</text>\n",
       "</g>\n",
       "<!-- concat1&#45;&gt;expand_dims10 -->\n",
       "<g id=\"edge22\" class=\"edge\"><title>concat1&#45;&gt;expand_dims10</title>\n",
       "<path fill=\"none\" stroke=\"black\" d=\"M112,-1117.74C112,-1109.2 112,-1100.3 112,-1092.25\"/>\n",
       "<polygon fill=\"black\" stroke=\"black\" points=\"112,-1127.9 107.5,-1117.9 112,-1122.9 112,-1117.9 112,-1117.9 112,-1117.9 112,-1122.9 116.5,-1117.9 112,-1127.9 112,-1127.9\"/>\n",
       "</g>\n",
       "</g>\n",
       "</svg>\n"
      ],
      "text/plain": [
       "<graphviz.dot.Digraph at 0x7fdde253b9d0>"
      ]
     },
     "execution_count": 19,
     "metadata": {},
     "output_type": "execute_result"
    }
   ],
   "source": [
    "mx.viz.plot_network(outputs[0])"
   ]
  },
  {
   "cell_type": "code",
   "execution_count": null,
   "metadata": {
    "collapsed": true
   },
   "outputs": [],
   "source": []
  }
 ],
 "metadata": {
  "kernelspec": {
   "display_name": "Python 2",
   "language": "python",
   "name": "python2"
  },
  "language_info": {
   "codemirror_mode": {
    "name": "ipython",
    "version": 2
   },
   "file_extension": ".py",
   "mimetype": "text/x-python",
   "name": "python",
   "nbconvert_exporter": "python",
   "pygments_lexer": "ipython2",
   "version": "2.7.6"
  }
 },
 "nbformat": 4,
 "nbformat_minor": 1
}
