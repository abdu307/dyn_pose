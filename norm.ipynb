{
 "cells": [
  {
   "cell_type": "code",
   "execution_count": 76,
   "metadata": {
    "collapsed": true
   },
   "outputs": [],
   "source": [
    "import glob\n",
    "import json\n",
    "import numpy as np\n",
    "import cv2\n",
    "import pdb\n",
    "from matplotlib import pyplot as plt\n",
    "import os\n",
    "\n",
    "data_path = 'out'\n",
    "out_img_path = 'tmp/'\n",
    "\n",
    "% matplotlib inline"
   ]
  },
  {
   "cell_type": "code",
   "execution_count": 77,
   "metadata": {
    "collapsed": false
   },
   "outputs": [],
   "source": [
    "flist = [x.split('/')[-1] for x in  glob.glob(data_path + '/*')]\n",
    "cates = set([x.split('_')[0] for x in flist])"
   ]
  },
  {
   "cell_type": "code",
   "execution_count": 78,
   "metadata": {
    "collapsed": false
   },
   "outputs": [
    {
     "data": {
      "text/plain": [
       "{'circle', 'cross', 'line', 'static', 'stop', 'up', 'wave'}"
      ]
     },
     "execution_count": 78,
     "metadata": {},
     "output_type": "execute_result"
    }
   ],
   "source": [
    "cates"
   ]
  },
  {
   "cell_type": "code",
   "execution_count": 79,
   "metadata": {
    "collapsed": false
   },
   "outputs": [],
   "source": [
    "data={}\n",
    "for cate in cates:\n",
    "    data[cate] = glob.glob(data_path + '/' + cate + '*.json' )"
   ]
  },
  {
   "cell_type": "code",
   "execution_count": 80,
   "metadata": {
    "collapsed": false
   },
   "outputs": [
    {
     "data": {
      "text/plain": [
       "['up', 'stop', 'cross', 'wave', 'static', 'line', 'circle']"
      ]
     },
     "execution_count": 80,
     "metadata": {},
     "output_type": "execute_result"
    }
   ],
   "source": [
    "data.keys()"
   ]
  },
  {
   "cell_type": "code",
   "execution_count": 81,
   "metadata": {
    "collapsed": false
   },
   "outputs": [
    {
     "name": "stdout",
     "output_type": "stream",
     "text": [
      "label: 0, category: up\n",
      "out/up_IPC_20170529120450.json\n",
      "out/up_IPC_20170529120522.json\n",
      "out/up_IPC_20170529120443.json\n",
      "out/up_IPC_20170529120530.json\n",
      "out/up_IPC_20170529120539.json\n",
      "out/up_IPC_20170529120435.json\n",
      "out/up_IPC_20170529120502.json\n",
      "out/up_IPC_20170529120509.json\n",
      "out/up_IPC_20170529121800.json\n",
      "out/up_IPC_20170529121807.json\n",
      "out/up_IPC_20170529133225.json\n",
      "out/up_IPC_20170529121914.json\n",
      "out/up_IPC_20170529133232.json\n",
      "out/up_IPC_20170529121847.json\n",
      "out/up_IPC_20170529121841.json\n",
      "out/up_IPC_20170529121922.json\n",
      "out/up_IPC_20170529121831.json\n",
      "out/up_IPC_20170529121931.json\n",
      "out/up_IPC_20170529121938.json\n",
      "out/up_IPC_20170529121821.json\n",
      "label: 1, category: stop\n",
      "out/stop_IPC_20170529133813.json\n",
      "out/stop_IPC_20170529130444.json\n",
      "out/stop_IPC_20170529130358.json\n",
      "out/stop_IPC_20170529130427.json\n",
      "out/stop_IPC_20170529130352.json\n",
      "out/stop_IPC_20170529133806.json\n",
      "out/stop_IPC_20170529130450.json\n",
      "out/stop_IPC_20170529132018.json\n",
      "out/stop_IPC_20170529130344.json\n",
      "out/stop_IPC_20170529133543.json\n",
      "out/stop_IPC_20170529131901.json\n",
      "out/stop_IPC_20170529131906.json\n",
      "out/stop_IPC_20170529132030.json\n",
      "out/stop_IPC_20170529132036.json\n",
      "out/stop_IPC_20170529131913.json\n",
      "out/stop_IPC_20170529130415.json\n",
      "out/stop_IPC_20170529131855.json\n",
      "out/stop_IPC_20170529132041.json\n",
      "out/stop_IPC_20170529131849.json\n",
      "out/stop_IPC_20170529130432.json\n",
      "label: 2, category: cross\n",
      "out/cross_IPC_20170529124048.json\n",
      "out/cross_IPC_20170529124236.json\n",
      "out/cross_IPC_20170529124257.json\n",
      "out/cross_IPC_20170529124252.json\n",
      "out/cross_IPC_20170529131602.json\n",
      "out/cross_IPC_20170529131607.json\n",
      "out/cross_IPC_20170529123939.json\n",
      "out/cross_IPC_20170529124243.json\n",
      "out/cross_IPC_20170529124016.json\n",
      "out/cross_IPC_20170529123952.json\n",
      "out/cross_IPC_20170529124327.json\n",
      "out/cross_IPC_20170529124008.json\n",
      "out/cross_IPC_20170529124002.json\n",
      "out/cross_IPC_20170529124340.json\n",
      "out/cross_IPC_20170529123946.json\n",
      "out/cross_IPC_20170529124526.json\n",
      "out/cross_IPC_20170529124332.json\n",
      "out/cross_IPC_20170529124531.json\n",
      "out/cross_IPC_20170529124027.json\n",
      "label: 3, category: wave\n",
      "out/wave_IPC_20170529132146.json\n",
      "out/wave_IPC_20170529130039.json\n",
      "out/wave_IPC_20170529132159.json\n",
      "out/wave_IPC_20170529132153.json\n",
      "out/wave_IPC_20170529130059.json\n",
      "out/wave_IPC_20170529130051.json\n",
      "out/wave_IPC_20170529130028.json\n",
      "out/wave_IPC_20170529130020.json\n",
      "out/wave_IPC_20170529130034.json\n",
      "out/wave_IPC_20170529132327.json\n",
      "out/wave_IPC_20170529134337.json\n",
      "out/wave_IPC_20170529132126.json\n",
      "out/wave_IPC_20170529130123.json\n",
      "out/wave_IPC_20170529130015.json\n",
      "out/wave_IPC_20170529132139.json\n",
      "out/wave_IPC_20170529130138.json\n",
      "out/wave_IPC_20170529132133.json\n",
      "out/wave_IPC_20170529130130.json\n",
      "out/wave_IPC_20170529130001.json\n",
      "out/wave_IPC_20170529130009.json\n",
      "label: 4, category: static\n",
      "out/static_IPC_20170529132524.json\n",
      "out/static_IPC_20170529132645.json\n",
      "out/static_IPC_20170529132549.json\n",
      "out/static_IPC_20170529132656.json\n",
      "out/static_IPC_20170529132541.json\n",
      "out/static_IPC_20170529132710.json\n",
      "out/static_IPC_20170529132717.json\n",
      "out/static_IPC_20170529132703.json\n",
      "out/static_IPC_20170529134631.json\n",
      "out/static_IPC_20170529132603.json\n",
      "out/static_IPC_20170529132449.json\n",
      "out/static_IPC_20170529132443.json\n",
      "out/static_IPC_20170529132517.json\n",
      "out/static_IPC_20170529132456.json\n",
      "out/static_IPC_20170529132503.json\n",
      "out/static_IPC_20170529132616.json\n",
      "out/static_IPC_20170529132611.json\n",
      "out/static_IPC_20170529132650.json\n",
      "out/static_IPC_20170529132624.json\n",
      "out/static_IPC_20170529132531.json\n",
      "label: 5, category: line\n",
      "out/line_IPC_20170529124816.json\n",
      "out/line_IPC_20170529125335.json\n",
      "out/line_IPC_20170529125341.json\n",
      "out/line_IPC_20170529125348.json\n",
      "out/line_IPC_20170529124838.json\n",
      "out/line_IPC_20170529125246.json\n",
      "out/line_IPC_20170529125252.json\n",
      "out/line_IPC_20170529131705.json\n",
      "out/line_IPC_20170529131650.json\n",
      "out/line_IPC_20170529131710.json\n",
      "out/line_IPC_20170529131715.json\n",
      "out/line_IPC_20170529124702.json\n",
      "out/line_IPC_20170529124709.json\n",
      "out/line_IPC_20170529134905.json\n",
      "out/line_IPC_20170529124640.json\n",
      "out/line_IPC_20170529124645.json\n",
      "out/line_IPC_20170529131655.json\n",
      "out/line_IPC_20170529124651.json\n",
      "out/line_IPC_20170529124831.json\n",
      "out/line_IPC_20170529124823.json\n",
      "label: 6, category: circle\n",
      "out/circle_IPC_20170529125521.json\n",
      "out/circle_IPC_20170529125446.json\n",
      "out/circle_IPC_20170529125513.json\n",
      "out/circle_IPC_20170529131345.json\n",
      "out/circle_IPC_20170529125648.json\n",
      "out/circle_IPC_20170529125641.json\n",
      "out/circle_IPC_20170529125453.json\n",
      "out/circle_IPC_20170529134754.json\n",
      "out/circle_IPC_20170529125501.json\n",
      "out/circle_IPC_20170529125710.json\n",
      "out/circle_IPC_20170529125825.json\n",
      "out/circle_IPC_20170529131351.json\n",
      "out/circle_IPC_20170529131324.json\n",
      "out/circle_IPC_20170529134745.json\n",
      "out/circle_IPC_20170529125700.json\n",
      "out/circle_IPC_20170529125833.json\n",
      "out/circle_IPC_20170529131332.json\n",
      "out/circle_IPC_20170529131313.json\n",
      "out/circle_IPC_20170529125531.json\n",
      "out/circle_IPC_20170529131306.json\n"
     ]
    }
   ],
   "source": [
    "trainX = []\n",
    "trainY = []\n",
    "for idx, k in enumerate(data.keys()):\n",
    "    print 'label: %d, category: %s' % (idx,k)\n",
    "    # for each class\n",
    "    for it in data[k]:\n",
    "        print it\n",
    "        xt = [x['p'] for x in json.load(open(it, 'r'))]\n",
    "        trainX.append(xt)\n",
    "        trainY.append(it)"
   ]
  },
  {
   "cell_type": "code",
   "execution_count": 74,
   "metadata": {
    "collapsed": false
   },
   "outputs": [
    {
     "data": {
      "text/plain": [
       "array([[  0,   0],\n",
       "       [ -1,  45],\n",
       "       [-19,  73],\n",
       "       [-19, 126],\n",
       "       [ -8, 171],\n",
       "       [ 18,  60],\n",
       "       [ 46,  34],\n",
       "       [ 64,  -6],\n",
       "       [ 13, 160],\n",
       "       [ 38, 228],\n",
       "       [ 45, 308],\n",
       "       [ 25, 154],\n",
       "       [ 33, 212],\n",
       "       [ 47, 254]])"
      ]
     },
     "execution_count": 74,
     "metadata": {},
     "output_type": "execute_result"
    }
   ],
   "source": [
    "xt[0] - np.asarray(xt[0][0])"
   ]
  },
  {
   "cell_type": "code",
   "execution_count": 82,
   "metadata": {
    "collapsed": false
   },
   "outputs": [
    {
     "data": {
      "image/png": "[encoded data removed]",
      "text/plain": [
       "<matplotlib.figure.Figure at 0x7f1440d6a9d0>"
      ]
     },
     "metadata": {},
     "output_type": "display_data"
    }
   ],
   "source": [
    "for idx in range(len(trainX)):\n",
    "    for i,x in enumerate(trainX[idx]):\n",
    "        n = trainY[idx].split('/')[-1].split('.')[0]\n",
    "        pose2Img2(x,i,n)"
   ]
  },
  {
   "cell_type": "code",
   "execution_count": 64,
   "metadata": {
    "collapsed": true
   },
   "outputs": [],
   "source": [
    "def pose2Img2(framePose, it, name):\n",
    "    pairRef = [1, 2, 3, 4, 4, 5, 6, 7, 7, 8, 9, 10, 10, 11, 12, 13, 13, 14]\n",
    "    pairRef = np.reshape(pairRef,(-1,2)) - 1\n",
    "    im = np.zeros((300,300,3), np.uint8)\n",
    "    for cord in framePose:\n",
    "\n",
    "        cv2.circle(im, tuple(cord), 1, (0, 255, 0), 1)\n",
    "    for lineMark in pairRef:\n",
    "        # print tuple(framePose[lineMark[0]][:-1])\n",
    "        cv2.line(im, tuple(framePose[lineMark[0]]),  tuple(framePose[lineMark[1]]), (0, 0, 255), 1) \n",
    "    plt.imshow(cv2.cvtColor(im, cv2.COLOR_BGR2RGB))\n",
    "    out_path = os.path.join(out_img_path, name + str(it).zfill(4) + '.jpg')\n",
    "    cv2.imwrite(out_path, im)"
   ]
  },
  {
   "cell_type": "code",
   "execution_count": 31,
   "metadata": {
    "collapsed": false
   },
   "outputs": [],
   "source": [
    "heads = [x['p'][0] for x in xt]"
   ]
  },
  {
   "cell_type": "code",
   "execution_count": 32,
   "metadata": {
    "collapsed": false
   },
   "outputs": [
    {
     "data": {
      "text/plain": [
       "[[180, 76],\n",
       " [169, 59],\n",
       " [159, 50],\n",
       " [157, 64],\n",
       " [165, 57],\n",
       " [162, 58],\n",
       " [162, 60],\n",
       " [163, 62],\n",
       " [162, 60],\n",
       " [164, 98],\n",
       " [162, 68],\n",
       " [179, 92],\n",
       " [171, 103],\n",
       " [192, 103],\n",
       " [177, 117],\n",
       " [170, 113],\n",
       " [165, 116],\n",
       " [164, 110],\n",
       " [157, 108],\n",
       " [156, 108]]"
      ]
     },
     "execution_count": 32,
     "metadata": {},
     "output_type": "execute_result"
    }
   ],
   "source": [
    "heads"
   ]
  },
  {
   "cell_type": "code",
   "execution_count": 27,
   "metadata": {
    "collapsed": false
   },
   "outputs": [
    {
     "data": {
      "text/plain": [
       "array([ 201.14285714,  188.28571429])"
      ]
     },
     "execution_count": 27,
     "metadata": {},
     "output_type": "execute_result"
    }
   ],
   "source": [
    "np.mean(xt[0]['p'],axis=0)"
   ]
  },
  {
   "cell_type": "code",
   "execution_count": 19,
   "metadata": {
    "collapsed": false
   },
   "outputs": [
    {
     "data": {
      "text/plain": [
       "array([180,  76, 170, 122, 164, 146, 179, 198, 220, 206, 168, 136, 187,\n",
       "       179, 221, 193, 186, 216, 259, 220, 241, 267, 183, 207, 245, 208,\n",
       "       213, 262])"
      ]
     },
     "execution_count": 19,
     "metadata": {},
     "output_type": "execute_result"
    }
   ],
   "source": [
    "for x in xt:\n",
    "    "
   ]
  },
  {
   "cell_type": "code",
   "execution_count": null,
   "metadata": {
    "collapsed": true
   },
   "outputs": [],
   "source": []
  }
 ],
 "metadata": {
  "kernelspec": {
   "display_name": "Python 2",
   "language": "python",
   "name": "python2"
  },
  "language_info": {
   "codemirror_mode": {
    "name": "ipython",
    "version": 2
   },
   "file_extension": ".py",
   "mimetype": "text/x-python",
   "name": "python",
   "nbconvert_exporter": "python",
   "pygments_lexer": "ipython2",
   "version": "2.7.6"
  }
 },
 "nbformat": 4,
 "nbformat_minor": 1
}
