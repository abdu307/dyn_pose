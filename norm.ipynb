{
 "cells": [
  {
   "cell_type": "code",
   "execution_count": 18,
   "metadata": {
    "collapsed": true
   },
   "outputs": [],
   "source": [
    "import glob\n",
    "import json\n",
    "import numpy as np\n",
    "import cv2\n",
    "import pdb\n",
    "from matplotlib import pyplot as plt\n",
    "import os\n",
    "\n",
    "data_path = 'out'\n",
    "out_img_path = 'tmp/'\n",
    "\n",
    "% matplotlib inline"
   ]
  },
  {
   "cell_type": "code",
   "execution_count": 19,
   "metadata": {
    "collapsed": false
   },
   "outputs": [],
   "source": [
    "flist = [x.split('/')[-1] for x in  glob.glob(data_path + '/*')]\n",
    "cates = set([x.split('_')[0] for x in flist])"
   ]
  },
  {
   "cell_type": "code",
   "execution_count": 33,
   "metadata": {
    "collapsed": false
   },
   "outputs": [
    {
     "data": {
      "text/plain": [
       "{'bend',\n",
       " 'jack',\n",
       " 'jump',\n",
       " 'pjump',\n",
       " 'run',\n",
       " 'side',\n",
       " 'skip',\n",
       " 'walk',\n",
       " 'wave1',\n",
       " 'wave2'}"
      ]
     },
     "execution_count": 33,
     "metadata": {},
     "output_type": "execute_result"
    }
   ],
   "source": [
    "cates"
   ]
  },
  {
   "cell_type": "code",
   "execution_count": 34,
   "metadata": {
    "collapsed": false
   },
   "outputs": [],
   "source": [
    "data={}\n",
    "for cate in cates:\n",
    "    data[cate] = glob.glob(data_path + '/' + cate + '*.json' )"
   ]
  },
  {
   "cell_type": "code",
   "execution_count": 35,
   "metadata": {
    "collapsed": false
   },
   "outputs": [
    {
     "data": {
      "text/plain": [
       "['pjump',\n",
       " 'run',\n",
       " 'skip',\n",
       " 'walk',\n",
       " 'jump',\n",
       " 'wave1',\n",
       " 'wave2',\n",
       " 'side',\n",
       " 'jack',\n",
       " 'bend']"
      ]
     },
     "execution_count": 35,
     "metadata": {},
     "output_type": "execute_result"
    }
   ],
   "source": [
    "data.keys()"
   ]
  },
  {
   "cell_type": "code",
   "execution_count": 44,
   "metadata": {
    "collapsed": false
   },
   "outputs": [
    {
     "name": "stdout",
     "output_type": "stream",
     "text": [
      "label: 0, category: pjump\n",
      "out/pjump_shahar_pjump.json\n"
     ]
    }
   ],
   "source": [
    "trainX = []\n",
    "trainY = []\n",
    "for idx, k in enumerate(data.keys()):\n",
    "    print 'label: %d, category: %s' % (idx,k)\n",
    "    # for each class\n",
    "    for it in data[k]:\n",
    "        print it\n",
    "        xt = [x['p'] for x in json.load(open(it, 'r'))]\n",
    "        break\n",
    "    break"
   ]
  },
  {
   "cell_type": "code",
   "execution_count": 45,
   "metadata": {
    "collapsed": false
   },
   "outputs": [
    {
     "data": {
      "text/plain": [
       "array([[  0,   0],\n",
       "       [  2,  29],\n",
       "       [-15,  38],\n",
       "       [-18,  64],\n",
       "       [-14,  86],\n",
       "       [ 19,  36],\n",
       "       [ 30,  61],\n",
       "       [ 26,  82],\n",
       "       [ -1,  96],\n",
       "       [ -1, 132],\n",
       "       [  4, 164],\n",
       "       [ 17,  95],\n",
       "       [ 19, 131],\n",
       "       [ 19, 166]])"
      ]
     },
     "execution_count": 45,
     "metadata": {},
     "output_type": "execute_result"
    }
   ],
   "source": [
    "xt[0] - np.asarray(xt[0][0])"
   ]
  },
  {
   "cell_type": "code",
   "execution_count": 46,
   "metadata": {
    "collapsed": false
   },
   "outputs": [
    {
     "data": {
      "image/png": "[encoded data removed]",
      "text/plain": [
       "<matplotlib.figure.Figure at 0x7f14d8038d90>"
      ]
     },
     "metadata": {},
     "output_type": "display_data"
    }
   ],
   "source": [
    "for i,x in enumerate(xt):\n",
    "    pose2Img2(x,i)"
   ]
  },
  {
   "cell_type": "code",
   "execution_count": 42,
   "metadata": {
    "collapsed": true
   },
   "outputs": [],
   "source": [
    "def pose2Img2(framePose, it):\n",
    "    pairRef = [1, 2, 3, 4, 4, 5, 6, 7, 7, 8, 9, 10, 10, 11, 12, 13, 13, 14]\n",
    "    pairRef = np.reshape(pairRef,(-1,2)) - 1\n",
    "    im = np.zeros((300,300,3), np.uint8)\n",
    "    for cord in framePose:\n",
    "\n",
    "        cv2.circle(im, tuple(cord), 1, (0, 255, 0), 1)\n",
    "    for lineMark in pairRef:\n",
    "        # print tuple(framePose[lineMark[0]][:-1])\n",
    "        cv2.line(im, tuple(framePose[lineMark[0]]),  tuple(framePose[lineMark[1]]), (0, 0, 255), 1) \n",
    "    plt.imshow(cv2.cvtColor(im, cv2.COLOR_BGR2RGB))\n",
    "    out_path = os.path.join(out_img_path, str(it).zfill(4) + '.jpg')\n",
    "    cv2.imwrite(out_path, im)"
   ]
  },
  {
   "cell_type": "code",
   "execution_count": 31,
   "metadata": {
    "collapsed": false
   },
   "outputs": [],
   "source": [
    "heads = [x['p'][0] for x in xt]"
   ]
  },
  {
   "cell_type": "code",
   "execution_count": 32,
   "metadata": {
    "collapsed": false
   },
   "outputs": [
    {
     "data": {
      "text/plain": [
       "[[180, 76],\n",
       " [169, 59],\n",
       " [159, 50],\n",
       " [157, 64],\n",
       " [165, 57],\n",
       " [162, 58],\n",
       " [162, 60],\n",
       " [163, 62],\n",
       " [162, 60],\n",
       " [164, 98],\n",
       " [162, 68],\n",
       " [179, 92],\n",
       " [171, 103],\n",
       " [192, 103],\n",
       " [177, 117],\n",
       " [170, 113],\n",
       " [165, 116],\n",
       " [164, 110],\n",
       " [157, 108],\n",
       " [156, 108]]"
      ]
     },
     "execution_count": 32,
     "metadata": {},
     "output_type": "execute_result"
    }
   ],
   "source": [
    "heads"
   ]
  },
  {
   "cell_type": "code",
   "execution_count": 27,
   "metadata": {
    "collapsed": false
   },
   "outputs": [
    {
     "data": {
      "text/plain": [
       "array([ 201.14285714,  188.28571429])"
      ]
     },
     "execution_count": 27,
     "metadata": {},
     "output_type": "execute_result"
    }
   ],
   "source": [
    "np.mean(xt[0]['p'],axis=0)"
   ]
  },
  {
   "cell_type": "code",
   "execution_count": 19,
   "metadata": {
    "collapsed": false
   },
   "outputs": [
    {
     "data": {
      "text/plain": [
       "array([180,  76, 170, 122, 164, 146, 179, 198, 220, 206, 168, 136, 187,\n",
       "       179, 221, 193, 186, 216, 259, 220, 241, 267, 183, 207, 245, 208,\n",
       "       213, 262])"
      ]
     },
     "execution_count": 19,
     "metadata": {},
     "output_type": "execute_result"
    }
   ],
   "source": [
    "for x in xt:\n",
    "    "
   ]
  },
  {
   "cell_type": "code",
   "execution_count": null,
   "metadata": {
    "collapsed": true
   },
   "outputs": [],
   "source": []
  }
 ],
 "metadata": {
  "kernelspec": {
   "display_name": "Python 2",
   "language": "python",
   "name": "python2"
  },
  "language_info": {
   "codemirror_mode": {
    "name": "ipython",
    "version": 2
   },
   "file_extension": ".py",
   "mimetype": "text/x-python",
   "name": "python",
   "nbconvert_exporter": "python",
   "pygments_lexer": "ipython2",
   "version": "2.7.6"
  }
 },
 "nbformat": 4,
 "nbformat_minor": 1
}
