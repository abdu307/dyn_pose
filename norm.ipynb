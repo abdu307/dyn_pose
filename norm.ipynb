{
 "cells": [
  {
   "cell_type": "code",
   "execution_count": 16,
   "metadata": {
    "collapsed": true
   },
   "outputs": [],
   "source": [
    "import glob\n",
    "import json\n",
    "import numpy as np\n",
    "data_path = 'out'"
   ]
  },
  {
   "cell_type": "code",
   "execution_count": 8,
   "metadata": {
    "collapsed": false
   },
   "outputs": [],
   "source": [
    "flist = [x.split('/')[-1] for x in  glob.glob(data_path + '/*')]\n",
    "cates = set([x.split('_')[0] for x in flist])"
   ]
  },
  {
   "cell_type": "code",
   "execution_count": 13,
   "metadata": {
    "collapsed": false
   },
   "outputs": [],
   "source": [
    "data={}\n",
    "for cate in cates:\n",
    "    data[cate] = glob.glob(data_path + '/' + cate + '*.json' )"
   ]
  },
  {
   "cell_type": "code",
   "execution_count": 24,
   "metadata": {
    "collapsed": false
   },
   "outputs": [
    {
     "name": "stdout",
     "output_type": "stream",
     "text": [
      "label: 0, category: static\n",
      "out/static_20170116_134123.json\n"
     ]
    },
    {
     "ename": "TypeError",
     "evalue": "list indices must be integers, not str",
     "output_type": "error",
     "traceback": [
      "\u001b[1;31m---------------------------------------------------------------------------\u001b[0m",
      "\u001b[1;31mTypeError\u001b[0m                                 Traceback (most recent call last)",
      "\u001b[1;32m<ipython-input-24-7d0a547d1509>\u001b[0m in \u001b[0;36m<module>\u001b[1;34m()\u001b[0m\n\u001b[0;32m      6\u001b[0m     \u001b[1;32mfor\u001b[0m \u001b[0mit\u001b[0m \u001b[1;32min\u001b[0m \u001b[0mdata\u001b[0m\u001b[1;33m[\u001b[0m\u001b[0mk\u001b[0m\u001b[1;33m]\u001b[0m\u001b[1;33m:\u001b[0m\u001b[1;33m\u001b[0m\u001b[0m\n\u001b[0;32m      7\u001b[0m         \u001b[1;32mprint\u001b[0m \u001b[0mit\u001b[0m\u001b[1;33m\u001b[0m\u001b[0m\n\u001b[1;32m----> 8\u001b[1;33m         \u001b[0mxt\u001b[0m \u001b[1;33m=\u001b[0m \u001b[0mjson\u001b[0m\u001b[1;33m.\u001b[0m\u001b[0mload\u001b[0m\u001b[1;33m(\u001b[0m\u001b[0mopen\u001b[0m\u001b[1;33m(\u001b[0m\u001b[0mit\u001b[0m\u001b[1;33m,\u001b[0m \u001b[1;34m'r'\u001b[0m\u001b[1;33m)\u001b[0m\u001b[1;33m)\u001b[0m\u001b[1;33m[\u001b[0m\u001b[1;34m'p'\u001b[0m\u001b[1;33m]\u001b[0m\u001b[1;33m\u001b[0m\u001b[0m\n\u001b[0m",
      "\u001b[1;31mTypeError\u001b[0m: list indices must be integers, not str"
     ]
    }
   ],
   "source": [
    "trainX = []\n",
    "trainY = []\n",
    "for idx, k in enumerate(data.keys()):\n",
    "    print 'label: %d, category: %s' % (idx,k)\n",
    "    # for each class\n",
    "    for it in data[k]:\n",
    "        print it\n",
    "        xt = json.load(open(it, 'r'))['p']"
   ]
  },
  {
   "cell_type": "code",
   "execution_count": 33,
   "metadata": {
    "collapsed": false
   },
   "outputs": [
    {
     "data": {
      "text/plain": [
       "{u'id': u'/home/gengshan/workJan/poseEstm_rtpose/camData/lhandsup/4/20170116_1346540001.jpg',\n",
       " u'p': [[180, 76],\n",
       "  [170, 122],\n",
       "  [164, 146],\n",
       "  [179, 198],\n",
       "  [220, 206],\n",
       "  [168, 136],\n",
       "  [187, 179],\n",
       "  [221, 193],\n",
       "  [186, 216],\n",
       "  [259, 220],\n",
       "  [241, 267],\n",
       "  [183, 207],\n",
       "  [245, 208],\n",
       "  [213, 262]]}"
      ]
     },
     "execution_count": 33,
     "metadata": {},
     "output_type": "execute_result"
    }
   ],
   "source": [
    "xt[0]"
   ]
  },
  {
   "cell_type": "code",
   "execution_count": null,
   "metadata": {
    "collapsed": true
   },
   "outputs": [],
   "source": [
    "def pose2Img2(framePose, it):\n",
    "    im = np.zeros((500,500,3), np.uint8)\n",
    "    for cord in framePose:\n",
    "        cv2.circle(im, tuple(cord), 1, (0, 255, 0), 1)\n",
    "    for lineMark in pairRef:\n",
    "        # print tuple(framePose[lineMark[0]][:-1])\n",
    "        cv2.line(im, tuple(framePose[lineMark[0]]),  tuple(framePose[lineMark[1]]), (0, 0, 255), 1) \n",
    "    plt.imshow(cv2.cvtColor(im, cv2.COLOR_BGR2RGB))\n",
    "    print os.path.join('/home/gengshan/workJan/poseEstm_rtpose/sanityCheck', str(it).zfill(4) + '.jpg')\n",
    "    cv2.imwrite(os.path.join('/home/gengshan/workJan/poseEstm_rtpose/sanityCheck', str(it).zfill(4) + '.jpg'), im)"
   ]
  },
  {
   "cell_type": "code",
   "execution_count": 31,
   "metadata": {
    "collapsed": false
   },
   "outputs": [],
   "source": [
    "heads = [x['p'][0] for x in xt]"
   ]
  },
  {
   "cell_type": "code",
   "execution_count": 32,
   "metadata": {
    "collapsed": false
   },
   "outputs": [
    {
     "data": {
      "text/plain": [
       "[[180, 76],\n",
       " [169, 59],\n",
       " [159, 50],\n",
       " [157, 64],\n",
       " [165, 57],\n",
       " [162, 58],\n",
       " [162, 60],\n",
       " [163, 62],\n",
       " [162, 60],\n",
       " [164, 98],\n",
       " [162, 68],\n",
       " [179, 92],\n",
       " [171, 103],\n",
       " [192, 103],\n",
       " [177, 117],\n",
       " [170, 113],\n",
       " [165, 116],\n",
       " [164, 110],\n",
       " [157, 108],\n",
       " [156, 108]]"
      ]
     },
     "execution_count": 32,
     "metadata": {},
     "output_type": "execute_result"
    }
   ],
   "source": [
    "heads"
   ]
  },
  {
   "cell_type": "code",
   "execution_count": 27,
   "metadata": {
    "collapsed": false
   },
   "outputs": [
    {
     "data": {
      "text/plain": [
       "array([ 201.14285714,  188.28571429])"
      ]
     },
     "execution_count": 27,
     "metadata": {},
     "output_type": "execute_result"
    }
   ],
   "source": [
    "np.mean(xt[0]['p'],axis=0)"
   ]
  },
  {
   "cell_type": "code",
   "execution_count": 19,
   "metadata": {
    "collapsed": false
   },
   "outputs": [
    {
     "data": {
      "text/plain": [
       "array([180,  76, 170, 122, 164, 146, 179, 198, 220, 206, 168, 136, 187,\n",
       "       179, 221, 193, 186, 216, 259, 220, 241, 267, 183, 207, 245, 208,\n",
       "       213, 262])"
      ]
     },
     "execution_count": 19,
     "metadata": {},
     "output_type": "execute_result"
    }
   ],
   "source": [
    "for x in xt:\n",
    "    "
   ]
  },
  {
   "cell_type": "code",
   "execution_count": null,
   "metadata": {
    "collapsed": true
   },
   "outputs": [],
   "source": []
  }
 ],
 "metadata": {
  "kernelspec": {
   "display_name": "Python 2",
   "language": "python",
   "name": "python2"
  },
  "language_info": {
   "codemirror_mode": {
    "name": "ipython",
    "version": 2
   },
   "file_extension": ".py",
   "mimetype": "text/x-python",
   "name": "python",
   "nbconvert_exporter": "python",
   "pygments_lexer": "ipython2",
   "version": "2.7.6"
  }
 },
 "nbformat": 4,
 "nbformat_minor": 1
}
